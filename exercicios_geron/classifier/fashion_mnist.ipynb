{
 "cells": [
  {
   "cell_type": "code",
   "execution_count": 1,
   "metadata": {},
   "outputs": [
    {
     "name": "stderr",
     "output_type": "stream",
     "text": [
      "2024-07-29 09:21:42.962562: I tensorflow/core/platform/cpu_feature_guard.cc:182] This TensorFlow binary is optimized to use available CPU instructions in performance-critical operations.\n",
      "To enable the following instructions: SSE4.1 SSE4.2 AVX AVX2 FMA, in other operations, rebuild TensorFlow with the appropriate compiler flags.\n"
     ]
    }
   ],
   "source": [
    "import tensorflow as tf\n",
    "from tensorflow import keras"
   ]
  },
  {
   "cell_type": "code",
   "execution_count": 2,
   "metadata": {},
   "outputs": [],
   "source": [
    "fashion_mnist = keras.datasets.fashion_mnist\n",
    "(x_train_full,y_train_full), (x_test,y_test) = fashion_mnist.load_data()"
   ]
  },
  {
   "cell_type": "code",
   "execution_count": 3,
   "metadata": {},
   "outputs": [],
   "source": [
    "x_valid,x_train = x_train_full[:5000]/255.0, x_train_full[5000:]/255.0\n",
    "y_valid, y_train = y_train_full[:5000],y_train_full[5000:]"
   ]
  },
  {
   "cell_type": "code",
   "execution_count": 4,
   "metadata": {},
   "outputs": [
    {
     "data": {
      "text/plain": [
       "10"
      ]
     },
     "execution_count": 4,
     "metadata": {},
     "output_type": "execute_result"
    }
   ],
   "source": [
    "class_names = ['T-shirt/top','Trouser','Pullover','Dress','Coat','Sandal','Shirt','Sneaker','Bag','Ankle boot']\n",
    "len(class_names)"
   ]
  },
  {
   "cell_type": "markdown",
   "metadata": {},
   "source": [
    "O formato de matriz de peso depende do número de entradas. Por isso, recomenda-se especificar a input_shape quando se cria a primeira camada em um modelo Sequentia. Contudo, se você não especificar o formato da entrada, não em problema: a Keras simplesmente aguardará até saber o formato da entrada, antes de crair o modelo. Isso acontecerá quando vocẽ o alimentar com dados reais (por exemplo, durante o treinamento) ou quando você chamar o método build(). até que o modelo seja de fato construído, as camadas não terão pesos e voce não poderá fazer determinadas coisas (como exibir o sumário do modelo ou salvar o modelo). Assim, se você conhece o formato da entrada ao crair o modelo, é melhor especificá-lo."
   ]
  },
  {
   "cell_type": "code",
   "execution_count": 5,
   "metadata": {},
   "outputs": [
    {
     "name": "stdout",
     "output_type": "stream",
     "text": [
      "Model: \"sequential\"\n",
      "_________________________________________________________________\n",
      " Layer (type)                Output Shape              Param #   \n",
      "=================================================================\n",
      " flatten (Flatten)           (None, 784)               0         \n",
      "                                                                 \n",
      " dense (Dense)               (None, 300)               235500    \n",
      "                                                                 \n",
      " dense_1 (Dense)             (None, 100)               30100     \n",
      "                                                                 \n",
      " dense_2 (Dense)             (None, 10)                1010      \n",
      "                                                                 \n",
      "=================================================================\n",
      "Total params: 266,610\n",
      "Trainable params: 266,610\n",
      "Non-trainable params: 0\n",
      "_________________________________________________________________\n"
     ]
    },
    {
     "name": "stderr",
     "output_type": "stream",
     "text": [
      "2024-07-29 09:21:45.105197: I tensorflow/core/common_runtime/process_util.cc:146] Creating new thread pool with default inter op setting: 2. Tune using inter_op_parallelism_threads for best performance.\n"
     ]
    }
   ],
   "source": [
    "model = keras.models.Sequential([\n",
    "    keras.layers.Flatten(input_shape=[28,28]),\n",
    "    keras.layers.Dense(300,activation='relu'),\n",
    "    keras.layers.Dense(100,activation='relu'),\n",
    "    keras.layers.Dense(len(class_names),activation='softmax')\n",
    "])\n",
    "\n",
    "model.summary()"
   ]
  },
  {
   "cell_type": "code",
   "execution_count": 6,
   "metadata": {},
   "outputs": [],
   "source": [
    "model.compile(loss='sparse_categorical_crossentropy',\n",
    "              optimizer='sgd',\n",
    "              metrics=['accuracy'])"
   ]
  },
  {
   "cell_type": "markdown",
   "metadata": {},
   "source": [
    "## pagina 233\n",
    "\n",
    "usamos __sparse_categorical_cross_entropy__ porque temos rótulos esparsos (ou seja, para cada instância, existe somente um índice de classe-alvo de 0 a 0 nesse caso), e as classes são exclusivas.\n",
    "\n",
    "ao usar o otimizador __SGD__ é importante acertar a taxa de aprendizado. Em geral, você quer usar o optimizer = keras.optimizers.SGD(lr=??) para definir a taxa de aprendizado. em vez de o optimizer='sgd' cujo padrão é lr=.01"
   ]
  },
  {
   "cell_type": "code",
   "execution_count": 7,
   "metadata": {},
   "outputs": [
    {
     "name": "stdout",
     "output_type": "stream",
     "text": [
      "Epoch 1/30\n",
      "1719/1719 [==============================] - 27s 15ms/step - loss: 0.7360 - accuracy: 0.7567 - val_loss: 0.5133 - val_accuracy: 0.8320\n",
      "Epoch 2/30\n",
      "1719/1719 [==============================] - 31s 18ms/step - loss: 0.4914 - accuracy: 0.8299 - val_loss: 0.4627 - val_accuracy: 0.8430\n",
      "Epoch 3/30\n",
      "1719/1719 [==============================] - 32s 18ms/step - loss: 0.4450 - accuracy: 0.8428 - val_loss: 0.4363 - val_accuracy: 0.8548\n",
      "Epoch 4/30\n",
      "1719/1719 [==============================] - 26s 15ms/step - loss: 0.4177 - accuracy: 0.8541 - val_loss: 0.4072 - val_accuracy: 0.8610\n",
      "Epoch 5/30\n",
      "1719/1719 [==============================] - 29s 17ms/step - loss: 0.3968 - accuracy: 0.8611 - val_loss: 0.3790 - val_accuracy: 0.8710\n",
      "Epoch 6/30\n",
      "1719/1719 [==============================] - 27s 15ms/step - loss: 0.3809 - accuracy: 0.8661 - val_loss: 0.4381 - val_accuracy: 0.8472\n",
      "Epoch 7/30\n",
      "1719/1719 [==============================] - 33s 19ms/step - loss: 0.3672 - accuracy: 0.8715 - val_loss: 0.3709 - val_accuracy: 0.8728\n",
      "Epoch 8/30\n",
      "1719/1719 [==============================] - 30s 17ms/step - loss: 0.3560 - accuracy: 0.8735 - val_loss: 0.4298 - val_accuracy: 0.8414\n",
      "Epoch 9/30\n",
      "1719/1719 [==============================] - 28s 16ms/step - loss: 0.3453 - accuracy: 0.8784 - val_loss: 0.3520 - val_accuracy: 0.8778\n",
      "Epoch 10/30\n",
      "1719/1719 [==============================] - 26s 15ms/step - loss: 0.3353 - accuracy: 0.8808 - val_loss: 0.3635 - val_accuracy: 0.8706\n",
      "Epoch 11/30\n",
      "1719/1719 [==============================] - 23s 13ms/step - loss: 0.3257 - accuracy: 0.8841 - val_loss: 0.3637 - val_accuracy: 0.8730\n",
      "Epoch 12/30\n",
      "1719/1719 [==============================] - 31s 18ms/step - loss: 0.3181 - accuracy: 0.8875 - val_loss: 0.3244 - val_accuracy: 0.8818\n",
      "Epoch 13/30\n",
      "1719/1719 [==============================] - 28s 16ms/step - loss: 0.3099 - accuracy: 0.8899 - val_loss: 0.3330 - val_accuracy: 0.8800\n",
      "Epoch 14/30\n",
      "1719/1719 [==============================] - 29s 17ms/step - loss: 0.3033 - accuracy: 0.8920 - val_loss: 0.3260 - val_accuracy: 0.8870\n",
      "Epoch 15/30\n",
      "1719/1719 [==============================] - 28s 17ms/step - loss: 0.2966 - accuracy: 0.8942 - val_loss: 0.3253 - val_accuracy: 0.8848\n",
      "Epoch 16/30\n",
      "1719/1719 [==============================] - 29s 17ms/step - loss: 0.2904 - accuracy: 0.8957 - val_loss: 0.3221 - val_accuracy: 0.8846\n",
      "Epoch 17/30\n",
      "1719/1719 [==============================] - 28s 16ms/step - loss: 0.2845 - accuracy: 0.8981 - val_loss: 0.3201 - val_accuracy: 0.8826\n",
      "Epoch 18/30\n",
      "1719/1719 [==============================] - 29s 17ms/step - loss: 0.2800 - accuracy: 0.8989 - val_loss: 0.3175 - val_accuracy: 0.8866\n",
      "Epoch 19/30\n",
      "1719/1719 [==============================] - 27s 16ms/step - loss: 0.2742 - accuracy: 0.9011 - val_loss: 0.3232 - val_accuracy: 0.8860\n",
      "Epoch 20/30\n",
      "1719/1719 [==============================] - 30s 18ms/step - loss: 0.2684 - accuracy: 0.9037 - val_loss: 0.3273 - val_accuracy: 0.8804\n",
      "Epoch 21/30\n",
      "1719/1719 [==============================] - 26s 15ms/step - loss: 0.2640 - accuracy: 0.9051 - val_loss: 0.3162 - val_accuracy: 0.8856\n",
      "Epoch 22/30\n",
      "1719/1719 [==============================] - 26s 15ms/step - loss: 0.2588 - accuracy: 0.9066 - val_loss: 0.3053 - val_accuracy: 0.8840\n",
      "Epoch 23/30\n",
      "1719/1719 [==============================] - 31s 18ms/step - loss: 0.2538 - accuracy: 0.9093 - val_loss: 0.3025 - val_accuracy: 0.8900\n",
      "Epoch 24/30\n",
      "1719/1719 [==============================] - 34s 20ms/step - loss: 0.2490 - accuracy: 0.9106 - val_loss: 0.3066 - val_accuracy: 0.8870\n",
      "Epoch 25/30\n",
      "1719/1719 [==============================] - 18s 11ms/step - loss: 0.2458 - accuracy: 0.9109 - val_loss: 0.3111 - val_accuracy: 0.8910\n",
      "Epoch 26/30\n",
      "1719/1719 [==============================] - 26s 15ms/step - loss: 0.2411 - accuracy: 0.9130 - val_loss: 0.2940 - val_accuracy: 0.8928\n",
      "Epoch 27/30\n",
      "1719/1719 [==============================] - 23s 13ms/step - loss: 0.2380 - accuracy: 0.9145 - val_loss: 0.3033 - val_accuracy: 0.8928\n",
      "Epoch 28/30\n",
      "1719/1719 [==============================] - 26s 15ms/step - loss: 0.2337 - accuracy: 0.9156 - val_loss: 0.2962 - val_accuracy: 0.8934\n",
      "Epoch 29/30\n",
      "1719/1719 [==============================] - 25s 15ms/step - loss: 0.2294 - accuracy: 0.9172 - val_loss: 0.3091 - val_accuracy: 0.8904\n",
      "Epoch 30/30\n",
      "1719/1719 [==============================] - 19s 11ms/step - loss: 0.2259 - accuracy: 0.9182 - val_loss: 0.2987 - val_accuracy: 0.8922\n"
     ]
    }
   ],
   "source": [
    "history = model.fit(x_train,y_train,epochs=30,validation_data=(x_valid,y_valid))"
   ]
  },
  {
   "cell_type": "code",
   "execution_count": 8,
   "metadata": {},
   "outputs": [],
   "source": [
    "import pandas as pd\n",
    "import matplotlib.pyplot as plt"
   ]
  },
  {
   "cell_type": "code",
   "execution_count": 9,
   "metadata": {},
   "outputs": [
    {
     "data": {
      "image/png": "[encoded data removed]",
      "text/plain": [
       "<Figure size 800x500 with 1 Axes>"
      ]
     },
     "metadata": {},
     "output_type": "display_data"
    }
   ],
   "source": [
    "pd.DataFrame(history.history).plot(figsize=(8,5))\n",
    "plt.grid(True)\n",
    "plt.gca().set_ylim(0,1)\n",
    "plt.show()"
   ]
  },
  {
   "cell_type": "code",
   "execution_count": 10,
   "metadata": {},
   "outputs": [
    {
     "name": "stdout",
     "output_type": "stream",
     "text": [
      "313/313 [==============================] - 3s 10ms/step - loss: 54.9884 - accuracy: 0.8624\n"
     ]
    },
    {
     "data": {
      "text/plain": [
       "[54.98836135864258, 0.8623999953269958]"
      ]
     },
     "execution_count": 10,
     "metadata": {},
     "output_type": "execute_result"
    }
   ],
   "source": [
    "model.evaluate(x_test,y_test)"
   ]
  },
  {
   "cell_type": "markdown",
   "metadata": {},
   "source": [
    "## fazendo predição"
   ]
  },
  {
   "cell_type": "code",
   "execution_count": 11,
   "metadata": {},
   "outputs": [
    {
     "name": "stdout",
     "output_type": "stream",
     "text": [
      "1/1 [==============================] - 0s 99ms/step\n"
     ]
    },
    {
     "data": {
      "text/plain": [
       "array([[0., 0., 0., 0., 0., 0., 0., 0., 0., 1.],\n",
       "       [0., 0., 1., 0., 0., 0., 0., 0., 0., 0.],\n",
       "       [0., 1., 0., 0., 0., 0., 0., 0., 0., 0.]], dtype=float32)"
      ]
     },
     "execution_count": 11,
     "metadata": {},
     "output_type": "execute_result"
    }
   ],
   "source": [
    "x_new = x_test[:3]\n",
    "y_proba = model.predict(x_new)\n",
    "y_proba.round(2)"
   ]
  },
  {
   "cell_type": "code",
   "execution_count": 12,
   "metadata": {},
   "outputs": [],
   "source": [
    "model.save('classifier.h5')"
   ]
  }
 ],
 "metadata": {
  "kernelspec": {
   "display_name": "tf",
   "language": "python",
   "name": "python3"
  },
  "language_info": {
   "codemirror_mode": {
    "name": "ipython",
    "version": 3
   },
   "file_extension": ".py",
   "mimetype": "text/x-python",
   "name": "python",
   "nbconvert_exporter": "python",
   "pygments_lexer": "ipython3",
   "version": "3.11.5"
  }
 },
 "nbformat": 4,
 "nbformat_minor": 2
}
