{
 "cells": [
  {
   "cell_type": "code",
   "execution_count": 3,
   "metadata": {},
   "outputs": [],
   "source": [
    "import tensorflow as tf\n",
    "from tensorflow import keras\n",
    "import numpy as np"
   ]
  },
  {
   "cell_type": "markdown",
   "metadata": {},
   "source": [
    "Vamos supor que você queira fazer um modelo que rankeia os tickets de suporte dos consumidores por prioridade e direciona-os para o departamento correto.O seu modelo possui três entradas:\n",
    "\n",
    "\n",
    "* o titulo do ticket (text input)\n",
    "* o texto do ticket (text input)\n",
    "* qualquer rótulo adicionado pelo consumidor (categorical input, assumido aqui como um one-hot encoded)\n",
    "\n",
    "Nós podemos codificar as entradas de texto como arrays de um e zeros de tamanhos de vocabulário\n",
    "\n",
    "seu modelo também tem duas saídas:\n",
    "\n",
    "* o score de prioridade do ticket, um escalar entre 0 e 1 (sigmoid output)\n",
    "* o departamento que tem que receber (softmax sobre o conjunto de departamento)\n",
    "\n",
    "construindo usando functional API"
   ]
  },
  {
   "cell_type": "code",
   "execution_count": 2,
   "metadata": {},
   "outputs": [
    {
     "name": "stderr",
     "output_type": "stream",
     "text": [
      "2024-12-24 16:22:15.693314: E external/local_xla/xla/stream_executor/cuda/cuda_driver.cc:266] failed call to cuInit: CUDA_ERROR_UNKNOWN: unknown error\n",
      "2024-12-24 16:22:15.693381: I external/local_xla/xla/stream_executor/cuda/cuda_diagnostics.cc:135] retrieving CUDA diagnostic information for host: mickael-Aspire-A515-54G\n",
      "2024-12-24 16:22:15.693388: I external/local_xla/xla/stream_executor/cuda/cuda_diagnostics.cc:142] hostname: mickael-Aspire-A515-54G\n",
      "2024-12-24 16:22:15.693492: I external/local_xla/xla/stream_executor/cuda/cuda_diagnostics.cc:166] libcuda reported version is: 550.120.0\n",
      "2024-12-24 16:22:15.693511: I external/local_xla/xla/stream_executor/cuda/cuda_diagnostics.cc:170] kernel reported version is: 550.120.0\n",
      "2024-12-24 16:22:15.693516: I external/local_xla/xla/stream_executor/cuda/cuda_diagnostics.cc:249] kernel version seems to match DSO: 550.120.0\n"
     ]
    }
   ],
   "source": [
    "vocabulary_size = 10000\n",
    "num_tags = 100\n",
    "num_departments = 4\n",
    "\n",
    "title = keras.Input(shape=(vocabulary_size,),name='title') # define a entrada do modelo\n",
    "text_body = keras.Input(shape=(vocabulary_size,),name='text_body') #define a entrada do modelo\n",
    "tags = keras.Input(shape=(num_tags,),name='tags') # define a entrada do modelo\n",
    "\n",
    "features = keras.layers.Concatenate()([title,text_body,tags]) # combina as features de entrada em um unico tensor concatenando-os\n",
    "features = keras.layers.Dense(64,activation='relu')(features) # aplica uma camada intermediaria para recombina as entradas de features para uma representação mais rica\n",
    "\n",
    "priority = keras.layers.Dense(1,activation='sigmoid',name='priority')(features) # saida do modelo\n",
    "\n",
    "department = keras.layers.Dense(num_departments,activation='softmax',name='department')(features) # saida do modelo\n",
    "\n",
    "model = keras.Model(inputs=[title,text_body,tags],outputs=[priority,department]) # cria o modelo"
   ]
  },
  {
   "cell_type": "code",
   "execution_count": 4,
   "metadata": {},
   "outputs": [
    {
     "name": "stderr",
     "output_type": "stream",
     "text": [
      "2024-12-24 16:31:55.258268: W external/local_tsl/tsl/framework/cpu_allocator_impl.cc:83] Allocation of 102400000 exceeds 10% of free system memory.\n",
      "2024-12-24 16:31:55.382453: W external/local_tsl/tsl/framework/cpu_allocator_impl.cc:83] Allocation of 102400000 exceeds 10% of free system memory.\n"
     ]
    },
    {
     "name": "stdout",
     "output_type": "stream",
     "text": [
      "\u001b[1m40/40\u001b[0m \u001b[32m━━━━━━━━━━━━━━━━━━━━\u001b[0m\u001b[37m\u001b[0m \u001b[1m2s\u001b[0m 20ms/step - department_accuracy: 0.2475 - loss: 29.9454 - priority_mse: 0.2938\n"
     ]
    },
    {
     "name": "stderr",
     "output_type": "stream",
     "text": [
      "2024-12-24 16:31:57.780987: W external/local_tsl/tsl/framework/cpu_allocator_impl.cc:83] Allocation of 102400000 exceeds 10% of free system memory.\n",
      "2024-12-24 16:31:57.971017: W external/local_tsl/tsl/framework/cpu_allocator_impl.cc:83] Allocation of 102400000 exceeds 10% of free system memory.\n"
     ]
    },
    {
     "name": "stdout",
     "output_type": "stream",
     "text": [
      "\u001b[1m40/40\u001b[0m \u001b[32m━━━━━━━━━━━━━━━━━━━━\u001b[0m\u001b[37m\u001b[0m \u001b[1m0s\u001b[0m 4ms/step - department_accuracy: 0.2845 - loss: 19.6248 - priority_mse: 0.3343\n"
     ]
    },
    {
     "name": "stderr",
     "output_type": "stream",
     "text": [
      "2024-12-24 16:31:58.547985: W external/local_tsl/tsl/framework/cpu_allocator_impl.cc:83] Allocation of 102400000 exceeds 10% of free system memory.\n"
     ]
    },
    {
     "name": "stdout",
     "output_type": "stream",
     "text": [
      "\u001b[1m40/40\u001b[0m \u001b[32m━━━━━━━━━━━━━━━━━━━━\u001b[0m\u001b[37m\u001b[0m \u001b[1m0s\u001b[0m 6ms/step\n"
     ]
    }
   ],
   "source": [
    "# dummy input variables\n",
    "num_samples = 1280\n",
    "title_data = np.random.randint(0,2,size=(num_samples,vocabulary_size))\n",
    "text_body_data = np.random.randint(0,2,size=(num_samples,vocabulary_size))\n",
    "tags_data = np.random.randint(0,2,size=(num_samples,num_tags))\n",
    "\n",
    "#dummy outputs variables\n",
    "\n",
    "priority_data = np.random.random(size=(num_samples,1))\n",
    "department = np.random.random(size=(num_samples,num_departments))\n",
    "\n",
    "model.compile(loss=['mse','categorical_crossentropy'], optimizer='adam',metrics=[['mse'],['accuracy']])\n",
    "\n",
    "model.fit([title_data,text_body_data,tags_data],[priority_data,department],epochs=1)\n",
    "\n",
    "model.evaluate([title_data,text_body_data,tags_data],[priority_data,department])\n",
    "\n",
    "priority_preds,department_preds = model.predict([title_data,text_body_data,tags_data])"
   ]
  },
  {
   "cell_type": "markdown",
   "metadata": {},
   "source": [
    "uma outra maneira de compilar usando dicionarios que é bem melhor"
   ]
  },
  {
   "cell_type": "code",
   "execution_count": 5,
   "metadata": {},
   "outputs": [
    {
     "name": "stdout",
     "output_type": "stream",
     "text": [
      "\u001b[1m40/40\u001b[0m \u001b[32m━━━━━━━━━━━━━━━━━━━━\u001b[0m\u001b[37m\u001b[0m \u001b[1m2s\u001b[0m 21ms/step - department_accuracy: 0.2762 - loss: 30.3612 - priority_mse: 0.2924\n",
      "\u001b[1m40/40\u001b[0m \u001b[32m━━━━━━━━━━━━━━━━━━━━\u001b[0m\u001b[37m\u001b[0m \u001b[1m24s\u001b[0m 17ms/step\n"
     ]
    }
   ],
   "source": [
    "model.compile(optimizer='adam',loss={'priority':'mse','department':'categorical_crossentropy'},metrics={'priority':'mse','department':'accuracy'})\n",
    "model.fit({'title':title_data,'text_body':text_body_data,'tags':tags_data},{'priority':priority_data,'department':department})\n",
    "priority_preds, department_preds = model.predict({'title': title_data,'text_body': text_body_data,'tags':tags_data})"
   ]
  },
  {
   "cell_type": "code",
   "execution_count": 6,
   "metadata": {},
   "outputs": [
    {
     "name": "stdout",
     "output_type": "stream",
     "text": [
      "You must install pydot (`pip install pydot`) for `plot_model` to work.\n"
     ]
    }
   ],
   "source": [
    "keras.utils.plot_model(model)"
   ]
  }
 ],
 "metadata": {
  "kernelspec": {
   "display_name": "regression",
   "language": "python",
   "name": "python3"
  },
  "language_info": {
   "codemirror_mode": {
    "name": "ipython",
    "version": 3
   },
   "file_extension": ".py",
   "mimetype": "text/x-python",
   "name": "python",
   "nbconvert_exporter": "python",
   "pygments_lexer": "ipython3",
   "version": "3.12.7"
  }
 },
 "nbformat": 4,
 "nbformat_minor": 2
}
