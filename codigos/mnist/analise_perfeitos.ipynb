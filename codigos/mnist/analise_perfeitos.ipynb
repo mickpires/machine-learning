{
 "cells": [
  {
   "cell_type": "code",
   "execution_count": 42,
   "metadata": {},
   "outputs": [],
   "source": [
    "import pandas as pd\n",
    "import matplotlib.pyplot as plt\n",
    "import tensorflow as tf\n",
    "from tensorflow import keras\n",
    "import numpy as np\n",
    "from sklearn.preprocessing import OneHotEncoder\n",
    "import os\n",
    "from functions import mapa_calor, acuracia"
   ]
  },
  {
   "cell_type": "code",
   "execution_count": null,
   "metadata": {},
   "outputs": [],
   "source": []
  },
  {
   "cell_type": "code",
   "execution_count": 43,
   "metadata": {},
   "outputs": [
    {
     "data": {
      "text/html": [
       "<div>\n",
       "<style scoped>\n",
       "    .dataframe tbody tr th:only-of-type {\n",
       "        vertical-align: middle;\n",
       "    }\n",
       "\n",
       "    .dataframe tbody tr th {\n",
       "        vertical-align: top;\n",
       "    }\n",
       "\n",
       "    .dataframe thead th {\n",
       "        text-align: right;\n",
       "    }\n",
       "</style>\n",
       "<table border=\"1\" class=\"dataframe\">\n",
       "  <thead>\n",
       "    <tr style=\"text-align: right;\">\n",
       "      <th></th>\n",
       "      <th>comprimento de onda</th>\n",
       "      <th>cor</th>\n",
       "    </tr>\n",
       "  </thead>\n",
       "  <tbody>\n",
       "    <tr>\n",
       "      <th>0</th>\n",
       "      <td>460.00</td>\n",
       "      <td>azul</td>\n",
       "    </tr>\n",
       "    <tr>\n",
       "      <th>1</th>\n",
       "      <td>460.65</td>\n",
       "      <td>azul</td>\n",
       "    </tr>\n",
       "    <tr>\n",
       "      <th>2</th>\n",
       "      <td>461.31</td>\n",
       "      <td>azul</td>\n",
       "    </tr>\n",
       "    <tr>\n",
       "      <th>3</th>\n",
       "      <td>461.96</td>\n",
       "      <td>azul</td>\n",
       "    </tr>\n",
       "    <tr>\n",
       "      <th>4</th>\n",
       "      <td>462.61</td>\n",
       "      <td>azul</td>\n",
       "    </tr>\n",
       "    <tr>\n",
       "      <th>...</th>\n",
       "      <td>...</td>\n",
       "      <td>...</td>\n",
       "    </tr>\n",
       "    <tr>\n",
       "      <th>195</th>\n",
       "      <td>587.39</td>\n",
       "      <td>verde</td>\n",
       "    </tr>\n",
       "    <tr>\n",
       "      <th>196</th>\n",
       "      <td>588.04</td>\n",
       "      <td>verde</td>\n",
       "    </tr>\n",
       "    <tr>\n",
       "      <th>197</th>\n",
       "      <td>588.69</td>\n",
       "      <td>verde</td>\n",
       "    </tr>\n",
       "    <tr>\n",
       "      <th>198</th>\n",
       "      <td>589.35</td>\n",
       "      <td>verde</td>\n",
       "    </tr>\n",
       "    <tr>\n",
       "      <th>199</th>\n",
       "      <td>590.00</td>\n",
       "      <td>verde</td>\n",
       "    </tr>\n",
       "  </tbody>\n",
       "</table>\n",
       "<p>200 rows × 2 columns</p>\n",
       "</div>"
      ],
      "text/plain": [
       "     comprimento de onda    cor\n",
       "0                 460.00   azul\n",
       "1                 460.65   azul\n",
       "2                 461.31   azul\n",
       "3                 461.96   azul\n",
       "4                 462.61   azul\n",
       "..                   ...    ...\n",
       "195               587.39  verde\n",
       "196               588.04  verde\n",
       "197               588.69  verde\n",
       "198               589.35  verde\n",
       "199               590.00  verde\n",
       "\n",
       "[200 rows x 2 columns]"
      ]
     },
     "execution_count": 43,
     "metadata": {},
     "output_type": "execute_result"
    }
   ],
   "source": [
    "dados = pd.read_csv(\"dados/dados_perfeito.csv\")\n",
    "del dados[\"Unnamed: 0\"]\n",
    "dados"
   ]
  },
  {
   "cell_type": "code",
   "execution_count": 44,
   "metadata": {},
   "outputs": [],
   "source": [
    "# Cria a camada de normalização\n",
    "normalization_layer = keras.layers.Normalization(axis=-1)\n",
    "\n",
    "# Adapta a camada aos dados (necessário para calcular a média e o desvio padrão)\n",
    "normalization_layer.adapt(dados['comprimento de onda'].values.reshape(-1, 1))"
   ]
  },
  {
   "cell_type": "code",
   "execution_count": 45,
   "metadata": {},
   "outputs": [
    {
     "data": {
      "text/plain": [
       "array([[1., 0.],\n",
       "       [1., 0.],\n",
       "       [1., 0.],\n",
       "       [1., 0.],\n",
       "       [1., 0.],\n",
       "       [1., 0.],\n",
       "       [1., 0.],\n",
       "       [1., 0.],\n",
       "       [1., 0.],\n",
       "       [1., 0.],\n",
       "       [1., 0.],\n",
       "       [1., 0.],\n",
       "       [1., 0.],\n",
       "       [1., 0.],\n",
       "       [1., 0.],\n",
       "       [1., 0.],\n",
       "       [1., 0.],\n",
       "       [1., 0.],\n",
       "       [1., 0.],\n",
       "       [1., 0.],\n",
       "       [1., 0.],\n",
       "       [1., 0.],\n",
       "       [1., 0.],\n",
       "       [1., 0.],\n",
       "       [1., 0.],\n",
       "       [1., 0.],\n",
       "       [1., 0.],\n",
       "       [1., 0.],\n",
       "       [1., 0.],\n",
       "       [1., 0.],\n",
       "       [1., 0.],\n",
       "       [1., 0.],\n",
       "       [1., 0.],\n",
       "       [1., 0.],\n",
       "       [1., 0.],\n",
       "       [1., 0.],\n",
       "       [1., 0.],\n",
       "       [1., 0.],\n",
       "       [1., 0.],\n",
       "       [1., 0.],\n",
       "       [1., 0.],\n",
       "       [1., 0.],\n",
       "       [1., 0.],\n",
       "       [1., 0.],\n",
       "       [1., 0.],\n",
       "       [1., 0.],\n",
       "       [1., 0.],\n",
       "       [1., 0.],\n",
       "       [1., 0.],\n",
       "       [1., 0.],\n",
       "       [1., 0.],\n",
       "       [1., 0.],\n",
       "       [1., 0.],\n",
       "       [1., 0.],\n",
       "       [1., 0.],\n",
       "       [1., 0.],\n",
       "       [1., 0.],\n",
       "       [1., 0.],\n",
       "       [1., 0.],\n",
       "       [1., 0.],\n",
       "       [1., 0.],\n",
       "       [1., 0.],\n",
       "       [1., 0.],\n",
       "       [1., 0.],\n",
       "       [1., 0.],\n",
       "       [1., 0.],\n",
       "       [1., 0.],\n",
       "       [1., 0.],\n",
       "       [1., 0.],\n",
       "       [1., 0.],\n",
       "       [1., 0.],\n",
       "       [1., 0.],\n",
       "       [1., 0.],\n",
       "       [1., 0.],\n",
       "       [1., 0.],\n",
       "       [1., 0.],\n",
       "       [1., 0.],\n",
       "       [1., 0.],\n",
       "       [1., 0.],\n",
       "       [1., 0.],\n",
       "       [1., 0.],\n",
       "       [1., 0.],\n",
       "       [1., 0.],\n",
       "       [1., 0.],\n",
       "       [1., 0.],\n",
       "       [1., 0.],\n",
       "       [1., 0.],\n",
       "       [1., 0.],\n",
       "       [1., 0.],\n",
       "       [1., 0.],\n",
       "       [1., 0.],\n",
       "       [1., 0.],\n",
       "       [1., 0.],\n",
       "       [1., 0.],\n",
       "       [1., 0.],\n",
       "       [1., 0.],\n",
       "       [1., 0.],\n",
       "       [1., 0.],\n",
       "       [1., 0.],\n",
       "       [1., 0.],\n",
       "       [1., 0.],\n",
       "       [1., 0.],\n",
       "       [1., 0.],\n",
       "       [1., 0.],\n",
       "       [1., 0.],\n",
       "       [1., 0.],\n",
       "       [1., 0.],\n",
       "       [1., 0.],\n",
       "       [1., 0.],\n",
       "       [1., 0.],\n",
       "       [1., 0.],\n",
       "       [1., 0.],\n",
       "       [1., 0.],\n",
       "       [1., 0.],\n",
       "       [1., 0.],\n",
       "       [1., 0.],\n",
       "       [1., 0.],\n",
       "       [1., 0.],\n",
       "       [1., 0.],\n",
       "       [1., 0.],\n",
       "       [1., 0.],\n",
       "       [1., 0.],\n",
       "       [1., 0.],\n",
       "       [0., 1.],\n",
       "       [0., 1.],\n",
       "       [0., 1.],\n",
       "       [0., 1.],\n",
       "       [0., 1.],\n",
       "       [0., 1.],\n",
       "       [0., 1.],\n",
       "       [0., 1.],\n",
       "       [0., 1.],\n",
       "       [0., 1.],\n",
       "       [0., 1.],\n",
       "       [0., 1.],\n",
       "       [0., 1.],\n",
       "       [0., 1.],\n",
       "       [0., 1.],\n",
       "       [0., 1.],\n",
       "       [0., 1.],\n",
       "       [0., 1.],\n",
       "       [0., 1.],\n",
       "       [0., 1.],\n",
       "       [0., 1.],\n",
       "       [0., 1.],\n",
       "       [0., 1.],\n",
       "       [0., 1.],\n",
       "       [0., 1.],\n",
       "       [0., 1.],\n",
       "       [0., 1.],\n",
       "       [0., 1.],\n",
       "       [0., 1.],\n",
       "       [0., 1.],\n",
       "       [0., 1.],\n",
       "       [0., 1.],\n",
       "       [0., 1.],\n",
       "       [0., 1.],\n",
       "       [0., 1.],\n",
       "       [0., 1.],\n",
       "       [0., 1.],\n",
       "       [0., 1.],\n",
       "       [0., 1.],\n",
       "       [0., 1.],\n",
       "       [0., 1.],\n",
       "       [0., 1.],\n",
       "       [0., 1.],\n",
       "       [0., 1.],\n",
       "       [0., 1.],\n",
       "       [0., 1.],\n",
       "       [0., 1.],\n",
       "       [0., 1.],\n",
       "       [0., 1.],\n",
       "       [0., 1.],\n",
       "       [0., 1.],\n",
       "       [0., 1.],\n",
       "       [0., 1.],\n",
       "       [0., 1.],\n",
       "       [0., 1.],\n",
       "       [0., 1.],\n",
       "       [0., 1.],\n",
       "       [0., 1.],\n",
       "       [0., 1.],\n",
       "       [0., 1.],\n",
       "       [0., 1.],\n",
       "       [0., 1.],\n",
       "       [0., 1.],\n",
       "       [0., 1.],\n",
       "       [0., 1.],\n",
       "       [0., 1.],\n",
       "       [0., 1.],\n",
       "       [0., 1.],\n",
       "       [0., 1.],\n",
       "       [0., 1.],\n",
       "       [0., 1.],\n",
       "       [0., 1.],\n",
       "       [0., 1.],\n",
       "       [0., 1.],\n",
       "       [0., 1.],\n",
       "       [0., 1.],\n",
       "       [0., 1.]])"
      ]
     },
     "execution_count": 45,
     "metadata": {},
     "output_type": "execute_result"
    }
   ],
   "source": [
    "encoder = OneHotEncoder()\n",
    "cor_encoded = encoder.fit_transform(dados['cor'].values.reshape(-1,1))\n",
    "cor_encoded.toarray()"
   ]
  },
  {
   "cell_type": "code",
   "execution_count": 46,
   "metadata": {},
   "outputs": [],
   "source": [
    "x = dados['comprimento de onda'].array.reshape(-1,1)"
   ]
  },
  {
   "cell_type": "code",
   "execution_count": null,
   "metadata": {},
   "outputs": [],
   "source": []
  },
  {
   "cell_type": "code",
   "execution_count": 47,
   "metadata": {},
   "outputs": [
    {
     "data": {
      "text/plain": [
       "<tf.Tensor: shape=(200, 2), dtype=int16, numpy=\n",
       "array([[1, 0],\n",
       "       [1, 0],\n",
       "       [1, 0],\n",
       "       [1, 0],\n",
       "       [1, 0],\n",
       "       [1, 0],\n",
       "       [1, 0],\n",
       "       [1, 0],\n",
       "       [1, 0],\n",
       "       [1, 0],\n",
       "       [1, 0],\n",
       "       [1, 0],\n",
       "       [1, 0],\n",
       "       [1, 0],\n",
       "       [1, 0],\n",
       "       [1, 0],\n",
       "       [1, 0],\n",
       "       [1, 0],\n",
       "       [1, 0],\n",
       "       [1, 0],\n",
       "       [1, 0],\n",
       "       [1, 0],\n",
       "       [1, 0],\n",
       "       [1, 0],\n",
       "       [1, 0],\n",
       "       [1, 0],\n",
       "       [1, 0],\n",
       "       [1, 0],\n",
       "       [1, 0],\n",
       "       [1, 0],\n",
       "       [1, 0],\n",
       "       [1, 0],\n",
       "       [1, 0],\n",
       "       [1, 0],\n",
       "       [1, 0],\n",
       "       [1, 0],\n",
       "       [1, 0],\n",
       "       [1, 0],\n",
       "       [1, 0],\n",
       "       [1, 0],\n",
       "       [1, 0],\n",
       "       [1, 0],\n",
       "       [1, 0],\n",
       "       [1, 0],\n",
       "       [1, 0],\n",
       "       [1, 0],\n",
       "       [1, 0],\n",
       "       [1, 0],\n",
       "       [1, 0],\n",
       "       [1, 0],\n",
       "       [1, 0],\n",
       "       [1, 0],\n",
       "       [1, 0],\n",
       "       [1, 0],\n",
       "       [1, 0],\n",
       "       [1, 0],\n",
       "       [1, 0],\n",
       "       [1, 0],\n",
       "       [1, 0],\n",
       "       [1, 0],\n",
       "       [1, 0],\n",
       "       [1, 0],\n",
       "       [1, 0],\n",
       "       [1, 0],\n",
       "       [1, 0],\n",
       "       [1, 0],\n",
       "       [1, 0],\n",
       "       [1, 0],\n",
       "       [1, 0],\n",
       "       [1, 0],\n",
       "       [1, 0],\n",
       "       [1, 0],\n",
       "       [1, 0],\n",
       "       [1, 0],\n",
       "       [1, 0],\n",
       "       [1, 0],\n",
       "       [1, 0],\n",
       "       [1, 0],\n",
       "       [1, 0],\n",
       "       [1, 0],\n",
       "       [1, 0],\n",
       "       [1, 0],\n",
       "       [1, 0],\n",
       "       [1, 0],\n",
       "       [1, 0],\n",
       "       [1, 0],\n",
       "       [1, 0],\n",
       "       [1, 0],\n",
       "       [1, 0],\n",
       "       [1, 0],\n",
       "       [1, 0],\n",
       "       [1, 0],\n",
       "       [1, 0],\n",
       "       [1, 0],\n",
       "       [1, 0],\n",
       "       [1, 0],\n",
       "       [1, 0],\n",
       "       [1, 0],\n",
       "       [1, 0],\n",
       "       [1, 0],\n",
       "       [1, 0],\n",
       "       [1, 0],\n",
       "       [1, 0],\n",
       "       [1, 0],\n",
       "       [1, 0],\n",
       "       [1, 0],\n",
       "       [1, 0],\n",
       "       [1, 0],\n",
       "       [1, 0],\n",
       "       [1, 0],\n",
       "       [1, 0],\n",
       "       [1, 0],\n",
       "       [1, 0],\n",
       "       [1, 0],\n",
       "       [1, 0],\n",
       "       [1, 0],\n",
       "       [1, 0],\n",
       "       [1, 0],\n",
       "       [1, 0],\n",
       "       [1, 0],\n",
       "       [1, 0],\n",
       "       [1, 0],\n",
       "       [1, 0],\n",
       "       [0, 1],\n",
       "       [0, 1],\n",
       "       [0, 1],\n",
       "       [0, 1],\n",
       "       [0, 1],\n",
       "       [0, 1],\n",
       "       [0, 1],\n",
       "       [0, 1],\n",
       "       [0, 1],\n",
       "       [0, 1],\n",
       "       [0, 1],\n",
       "       [0, 1],\n",
       "       [0, 1],\n",
       "       [0, 1],\n",
       "       [0, 1],\n",
       "       [0, 1],\n",
       "       [0, 1],\n",
       "       [0, 1],\n",
       "       [0, 1],\n",
       "       [0, 1],\n",
       "       [0, 1],\n",
       "       [0, 1],\n",
       "       [0, 1],\n",
       "       [0, 1],\n",
       "       [0, 1],\n",
       "       [0, 1],\n",
       "       [0, 1],\n",
       "       [0, 1],\n",
       "       [0, 1],\n",
       "       [0, 1],\n",
       "       [0, 1],\n",
       "       [0, 1],\n",
       "       [0, 1],\n",
       "       [0, 1],\n",
       "       [0, 1],\n",
       "       [0, 1],\n",
       "       [0, 1],\n",
       "       [0, 1],\n",
       "       [0, 1],\n",
       "       [0, 1],\n",
       "       [0, 1],\n",
       "       [0, 1],\n",
       "       [0, 1],\n",
       "       [0, 1],\n",
       "       [0, 1],\n",
       "       [0, 1],\n",
       "       [0, 1],\n",
       "       [0, 1],\n",
       "       [0, 1],\n",
       "       [0, 1],\n",
       "       [0, 1],\n",
       "       [0, 1],\n",
       "       [0, 1],\n",
       "       [0, 1],\n",
       "       [0, 1],\n",
       "       [0, 1],\n",
       "       [0, 1],\n",
       "       [0, 1],\n",
       "       [0, 1],\n",
       "       [0, 1],\n",
       "       [0, 1],\n",
       "       [0, 1],\n",
       "       [0, 1],\n",
       "       [0, 1],\n",
       "       [0, 1],\n",
       "       [0, 1],\n",
       "       [0, 1],\n",
       "       [0, 1],\n",
       "       [0, 1],\n",
       "       [0, 1],\n",
       "       [0, 1],\n",
       "       [0, 1],\n",
       "       [0, 1],\n",
       "       [0, 1],\n",
       "       [0, 1],\n",
       "       [0, 1],\n",
       "       [0, 1]], dtype=int16)>"
      ]
     },
     "execution_count": 47,
     "metadata": {},
     "output_type": "execute_result"
    }
   ],
   "source": [
    "cor_encoded = tf.constant(value=cor_encoded.toarray(),dtype='int16')\n",
    "cor_encoded"
   ]
  },
  {
   "cell_type": "code",
   "execution_count": 48,
   "metadata": {},
   "outputs": [
    {
     "data": {
      "text/plain": [
       "<tf.Tensor: shape=(200, 1), dtype=float64, numpy=\n",
       "array([[460.  ],\n",
       "       [460.65],\n",
       "       [461.31],\n",
       "       [461.96],\n",
       "       [462.61],\n",
       "       [463.27],\n",
       "       [463.92],\n",
       "       [464.57],\n",
       "       [465.23],\n",
       "       [465.88],\n",
       "       [466.53],\n",
       "       [467.19],\n",
       "       [467.84],\n",
       "       [468.49],\n",
       "       [469.15],\n",
       "       [469.8 ],\n",
       "       [470.45],\n",
       "       [471.11],\n",
       "       [471.76],\n",
       "       [472.41],\n",
       "       [473.07],\n",
       "       [473.72],\n",
       "       [474.37],\n",
       "       [475.03],\n",
       "       [475.68],\n",
       "       [476.33],\n",
       "       [476.98],\n",
       "       [477.64],\n",
       "       [478.29],\n",
       "       [478.94],\n",
       "       [479.6 ],\n",
       "       [480.25],\n",
       "       [480.9 ],\n",
       "       [481.56],\n",
       "       [482.21],\n",
       "       [482.86],\n",
       "       [483.52],\n",
       "       [484.17],\n",
       "       [484.82],\n",
       "       [485.48],\n",
       "       [486.13],\n",
       "       [486.78],\n",
       "       [487.44],\n",
       "       [488.09],\n",
       "       [488.74],\n",
       "       [489.4 ],\n",
       "       [490.05],\n",
       "       [490.7 ],\n",
       "       [491.36],\n",
       "       [492.01],\n",
       "       [492.66],\n",
       "       [493.32],\n",
       "       [493.97],\n",
       "       [494.62],\n",
       "       [495.28],\n",
       "       [495.93],\n",
       "       [496.58],\n",
       "       [497.24],\n",
       "       [497.89],\n",
       "       [498.54],\n",
       "       [499.2 ],\n",
       "       [499.85],\n",
       "       [500.5 ],\n",
       "       [501.16],\n",
       "       [501.81],\n",
       "       [502.46],\n",
       "       [503.12],\n",
       "       [503.77],\n",
       "       [504.42],\n",
       "       [505.08],\n",
       "       [505.73],\n",
       "       [506.38],\n",
       "       [507.04],\n",
       "       [507.69],\n",
       "       [508.34],\n",
       "       [508.99],\n",
       "       [509.65],\n",
       "       [510.3 ],\n",
       "       [510.95],\n",
       "       [511.61],\n",
       "       [512.26],\n",
       "       [512.91],\n",
       "       [513.57],\n",
       "       [514.22],\n",
       "       [514.87],\n",
       "       [515.53],\n",
       "       [516.18],\n",
       "       [516.83],\n",
       "       [517.49],\n",
       "       [518.14],\n",
       "       [518.79],\n",
       "       [519.45],\n",
       "       [520.1 ],\n",
       "       [520.75],\n",
       "       [521.41],\n",
       "       [522.06],\n",
       "       [522.71],\n",
       "       [523.37],\n",
       "       [524.02],\n",
       "       [524.67],\n",
       "       [525.33],\n",
       "       [525.98],\n",
       "       [526.63],\n",
       "       [527.29],\n",
       "       [527.94],\n",
       "       [528.59],\n",
       "       [529.25],\n",
       "       [529.9 ],\n",
       "       [530.55],\n",
       "       [531.21],\n",
       "       [531.86],\n",
       "       [532.51],\n",
       "       [533.17],\n",
       "       [533.82],\n",
       "       [534.47],\n",
       "       [535.13],\n",
       "       [535.78],\n",
       "       [536.43],\n",
       "       [537.09],\n",
       "       [537.74],\n",
       "       [538.39],\n",
       "       [539.05],\n",
       "       [539.7 ],\n",
       "       [540.35],\n",
       "       [541.01],\n",
       "       [541.66],\n",
       "       [542.31],\n",
       "       [542.96],\n",
       "       [543.62],\n",
       "       [544.27],\n",
       "       [544.92],\n",
       "       [545.58],\n",
       "       [546.23],\n",
       "       [546.88],\n",
       "       [547.54],\n",
       "       [548.19],\n",
       "       [548.84],\n",
       "       [549.5 ],\n",
       "       [550.15],\n",
       "       [550.8 ],\n",
       "       [551.46],\n",
       "       [552.11],\n",
       "       [552.76],\n",
       "       [553.42],\n",
       "       [554.07],\n",
       "       [554.72],\n",
       "       [555.38],\n",
       "       [556.03],\n",
       "       [556.68],\n",
       "       [557.34],\n",
       "       [557.99],\n",
       "       [558.64],\n",
       "       [559.3 ],\n",
       "       [559.95],\n",
       "       [560.6 ],\n",
       "       [561.26],\n",
       "       [561.91],\n",
       "       [562.56],\n",
       "       [563.22],\n",
       "       [563.87],\n",
       "       [564.52],\n",
       "       [565.18],\n",
       "       [565.83],\n",
       "       [566.48],\n",
       "       [567.14],\n",
       "       [567.79],\n",
       "       [568.44],\n",
       "       [569.1 ],\n",
       "       [569.75],\n",
       "       [570.4 ],\n",
       "       [571.06],\n",
       "       [571.71],\n",
       "       [572.36],\n",
       "       [573.02],\n",
       "       [573.67],\n",
       "       [574.32],\n",
       "       [574.97],\n",
       "       [575.63],\n",
       "       [576.28],\n",
       "       [576.93],\n",
       "       [577.59],\n",
       "       [578.24],\n",
       "       [578.89],\n",
       "       [579.55],\n",
       "       [580.2 ],\n",
       "       [580.85],\n",
       "       [581.51],\n",
       "       [582.16],\n",
       "       [582.81],\n",
       "       [583.47],\n",
       "       [584.12],\n",
       "       [584.77],\n",
       "       [585.43],\n",
       "       [586.08],\n",
       "       [586.73],\n",
       "       [587.39],\n",
       "       [588.04],\n",
       "       [588.69],\n",
       "       [589.35],\n",
       "       [590.  ]])>"
      ]
     },
     "execution_count": 48,
     "metadata": {},
     "output_type": "execute_result"
    }
   ],
   "source": [
    "wavelength = tf.constant(dados['comprimento de onda'].array.reshape(-1,1),dtype='float64')\n",
    "wavelength"
   ]
  },
  {
   "cell_type": "code",
   "execution_count": 49,
   "metadata": {},
   "outputs": [],
   "source": [
    "from sklearn.model_selection import StratifiedShuffleSplit\n",
    "\n",
    "split = StratifiedShuffleSplit(n_splits=1,test_size=.2,random_state=42)\n",
    "\n",
    "for train_index, test_index in split.split(dados,dados['cor']):\n",
    "    strat_train_set = dados.loc[train_index]\n",
    "    strat_test_set = dados.loc[test_index]"
   ]
  },
  {
   "cell_type": "markdown",
   "metadata": {},
   "source": [
    "Divisão usando train_test_split"
   ]
  },
  {
   "cell_type": "code",
   "execution_count": 50,
   "metadata": {},
   "outputs": [],
   "source": [
    "from sklearn.model_selection import train_test_split\n",
    "\n",
    "x_train,x_test, y_train,y_test = train_test_split(dados['comprimento de onda'].values.reshape(-1,1),\n",
    "                                                  dados['cor'].values.reshape(-1,1),\n",
    "                                                  test_size=.2,\n",
    "                                                  random_state=42)"
   ]
  },
  {
   "cell_type": "code",
   "execution_count": 51,
   "metadata": {},
   "outputs": [
    {
     "data": {
      "text/plain": [
       "0.625"
      ]
     },
     "execution_count": 51,
     "metadata": {},
     "output_type": "execute_result"
    }
   ],
   "source": [
    "len(y_train[y_train == 'azul'])/len(y_train)"
   ]
  },
  {
   "cell_type": "code",
   "execution_count": 52,
   "metadata": {},
   "outputs": [
    {
     "data": {
      "text/plain": [
       "0.575"
      ]
     },
     "execution_count": 52,
     "metadata": {},
     "output_type": "execute_result"
    }
   ],
   "source": [
    "len(y_test[y_test == 'azul'])/len(y_test)"
   ]
  },
  {
   "cell_type": "code",
   "execution_count": 53,
   "metadata": {},
   "outputs": [],
   "source": [
    "x_train, y_train = strat_train_set['comprimento de onda'].values.reshape(-1,1), strat_train_set['cor'].values.reshape(-1,1)\n",
    "x_test,y_test = strat_test_set['comprimento de onda'].values.reshape(-1,1), strat_test_set['cor'].values.reshape(-1,1)"
   ]
  },
  {
   "cell_type": "code",
   "execution_count": 54,
   "metadata": {},
   "outputs": [
    {
     "data": {
      "text/plain": [
       "0.615"
      ]
     },
     "execution_count": 54,
     "metadata": {},
     "output_type": "execute_result"
    }
   ],
   "source": [
    "len(dados[dados['cor']=='azul'])/len(dados['cor'].values)"
   ]
  },
  {
   "cell_type": "code",
   "execution_count": 55,
   "metadata": {},
   "outputs": [
    {
     "data": {
      "text/plain": [
       "0.6125"
      ]
     },
     "execution_count": 55,
     "metadata": {},
     "output_type": "execute_result"
    }
   ],
   "source": [
    "len(y_train[y_train == 'azul'])/len(y_train)"
   ]
  },
  {
   "cell_type": "code",
   "execution_count": 56,
   "metadata": {},
   "outputs": [
    {
     "data": {
      "text/plain": [
       "0.625"
      ]
     },
     "execution_count": 56,
     "metadata": {},
     "output_type": "execute_result"
    }
   ],
   "source": [
    "len(y_test[y_test == 'azul'])/len(y_test)"
   ]
  },
  {
   "cell_type": "code",
   "execution_count": 57,
   "metadata": {},
   "outputs": [
    {
     "data": {
      "text/plain": [
       "array([['azul'],\n",
       "       ['verde'],\n",
       "       ['verde'],\n",
       "       ['azul'],\n",
       "       ['azul'],\n",
       "       ['verde'],\n",
       "       ['azul'],\n",
       "       ['azul'],\n",
       "       ['verde'],\n",
       "       ['azul'],\n",
       "       ['azul'],\n",
       "       ['verde'],\n",
       "       ['azul'],\n",
       "       ['azul'],\n",
       "       ['azul'],\n",
       "       ['verde'],\n",
       "       ['verde'],\n",
       "       ['verde'],\n",
       "       ['azul'],\n",
       "       ['verde'],\n",
       "       ['azul'],\n",
       "       ['azul'],\n",
       "       ['verde'],\n",
       "       ['azul'],\n",
       "       ['azul'],\n",
       "       ['verde'],\n",
       "       ['verde'],\n",
       "       ['azul'],\n",
       "       ['verde'],\n",
       "       ['verde'],\n",
       "       ['azul'],\n",
       "       ['verde'],\n",
       "       ['azul'],\n",
       "       ['azul'],\n",
       "       ['azul'],\n",
       "       ['azul'],\n",
       "       ['azul'],\n",
       "       ['azul'],\n",
       "       ['azul'],\n",
       "       ['azul'],\n",
       "       ['azul'],\n",
       "       ['azul'],\n",
       "       ['azul'],\n",
       "       ['verde'],\n",
       "       ['azul'],\n",
       "       ['azul'],\n",
       "       ['verde'],\n",
       "       ['azul'],\n",
       "       ['verde'],\n",
       "       ['verde'],\n",
       "       ['azul'],\n",
       "       ['azul'],\n",
       "       ['azul'],\n",
       "       ['verde'],\n",
       "       ['azul'],\n",
       "       ['azul'],\n",
       "       ['verde'],\n",
       "       ['azul'],\n",
       "       ['azul'],\n",
       "       ['verde'],\n",
       "       ['azul'],\n",
       "       ['azul'],\n",
       "       ['verde'],\n",
       "       ['azul'],\n",
       "       ['azul'],\n",
       "       ['azul'],\n",
       "       ['azul'],\n",
       "       ['azul'],\n",
       "       ['azul'],\n",
       "       ['azul'],\n",
       "       ['verde'],\n",
       "       ['verde'],\n",
       "       ['azul'],\n",
       "       ['azul'],\n",
       "       ['verde'],\n",
       "       ['verde'],\n",
       "       ['verde'],\n",
       "       ['verde'],\n",
       "       ['verde'],\n",
       "       ['verde'],\n",
       "       ['azul'],\n",
       "       ['verde'],\n",
       "       ['azul'],\n",
       "       ['azul'],\n",
       "       ['azul'],\n",
       "       ['verde'],\n",
       "       ['verde'],\n",
       "       ['azul'],\n",
       "       ['verde'],\n",
       "       ['verde'],\n",
       "       ['azul'],\n",
       "       ['verde'],\n",
       "       ['azul'],\n",
       "       ['azul'],\n",
       "       ['azul'],\n",
       "       ['azul'],\n",
       "       ['azul'],\n",
       "       ['azul'],\n",
       "       ['azul'],\n",
       "       ['azul'],\n",
       "       ['azul'],\n",
       "       ['azul'],\n",
       "       ['azul'],\n",
       "       ['azul'],\n",
       "       ['verde'],\n",
       "       ['azul'],\n",
       "       ['verde'],\n",
       "       ['azul'],\n",
       "       ['azul'],\n",
       "       ['verde'],\n",
       "       ['verde'],\n",
       "       ['azul'],\n",
       "       ['verde'],\n",
       "       ['verde'],\n",
       "       ['verde'],\n",
       "       ['azul'],\n",
       "       ['azul'],\n",
       "       ['azul'],\n",
       "       ['azul'],\n",
       "       ['verde'],\n",
       "       ['azul'],\n",
       "       ['azul'],\n",
       "       ['azul'],\n",
       "       ['azul'],\n",
       "       ['azul'],\n",
       "       ['verde'],\n",
       "       ['verde'],\n",
       "       ['azul'],\n",
       "       ['azul'],\n",
       "       ['azul'],\n",
       "       ['verde'],\n",
       "       ['azul'],\n",
       "       ['azul'],\n",
       "       ['azul'],\n",
       "       ['verde'],\n",
       "       ['azul'],\n",
       "       ['azul'],\n",
       "       ['verde'],\n",
       "       ['verde'],\n",
       "       ['verde'],\n",
       "       ['azul'],\n",
       "       ['azul'],\n",
       "       ['verde'],\n",
       "       ['azul'],\n",
       "       ['verde'],\n",
       "       ['azul'],\n",
       "       ['verde'],\n",
       "       ['verde'],\n",
       "       ['verde'],\n",
       "       ['verde'],\n",
       "       ['verde'],\n",
       "       ['azul'],\n",
       "       ['azul'],\n",
       "       ['azul'],\n",
       "       ['azul'],\n",
       "       ['verde'],\n",
       "       ['azul'],\n",
       "       ['verde'],\n",
       "       ['azul'],\n",
       "       ['verde']], dtype=object)"
      ]
     },
     "execution_count": 57,
     "metadata": {},
     "output_type": "execute_result"
    }
   ],
   "source": [
    "y_train.reshape(-1,1)"
   ]
  },
  {
   "cell_type": "code",
   "execution_count": 58,
   "metadata": {},
   "outputs": [],
   "source": [
    "encoder = OneHotEncoder()\n",
    "y_train = encoder.fit_transform(y_train).toarray()\n",
    "y_test = encoder.fit_transform(y_test).toarray()"
   ]
  },
  {
   "cell_type": "code",
   "execution_count": 59,
   "metadata": {},
   "outputs": [],
   "source": [
    "modelos_lineares = {}\n",
    "num_modelos = 5\n",
    "for i in range(num_modelos+1):\n",
    "    modelos_lineares[f'Perceptron{i}.keras'] = keras.models.Sequential([\n",
    "    normalization_layer,\n",
    "    keras.layers.Dense(2,activation='softmax')\n",
    "    ])\n",
    "    modelos_lineares[f'Perceptron{i}.keras'].compile(optimizer=keras.optimizers.SGD(learning_rate=1/10**i),loss='categorical_crossentropy',metrics=['accuracy'])"
   ]
  },
  {
   "cell_type": "code",
   "execution_count": 60,
   "metadata": {},
   "outputs": [],
   "source": [
    "for name, model in modelos_lineares.items():\n",
    "    if name not in os.listdir('./modelos_perceptron'):\n",
    "        model.fit(x_train,y_train,epochs=100)\n",
    "        model.save('./modelos_perceptron/' + name)\n",
    "    else:\n",
    "        model = keras.models.load_model('./modelos_perceptron/'+ name)"
   ]
  },
  {
   "cell_type": "markdown",
   "metadata": {},
   "source": [
    "Por conta de dar um problema de o confusion_matrix entender que está sendo continuo. O que será feito é um arredondamento do np max para que então, ele caia entre 1 ou 0"
   ]
  },
  {
   "cell_type": "code",
   "execution_count": 61,
   "metadata": {},
   "outputs": [
    {
     "name": "stdout",
     "output_type": "stream",
     "text": [
      "\u001b[1m2/2\u001b[0m \u001b[32m━━━━━━━━━━━━━━━━━━━━\u001b[0m\u001b[37m\u001b[0m \u001b[1m0s\u001b[0m 96ms/step\n"
     ]
    },
    {
     "data": {
      "image/png": "[encoded data removed]",
      "text/plain": [
       "<Figure size 640x480 with 2 Axes>"
      ]
     },
     "metadata": {},
     "output_type": "display_data"
    }
   ],
   "source": [
    "mapa_calor(modelos_lineares['Perceptron0.keras'].predict(x_test),y_test,'Mapa de Calor da Matriz de Confusão',encoder)"
   ]
  },
  {
   "cell_type": "code",
   "execution_count": 62,
   "metadata": {},
   "outputs": [
    {
     "name": "stdout",
     "output_type": "stream",
     "text": [
      "\u001b[1m2/2\u001b[0m \u001b[32m━━━━━━━━━━━━━━━━━━━━\u001b[0m\u001b[37m\u001b[0m \u001b[1m0s\u001b[0m 95ms/step\n"
     ]
    },
    {
     "data": {
      "image/png": "[encoded data removed]",
      "text/plain": [
       "<Figure size 640x480 with 2 Axes>"
      ]
     },
     "metadata": {},
     "output_type": "display_data"
    }
   ],
   "source": [
    "mapa_calor(modelos_lineares['Perceptron1.keras'].predict(x_test),y_test,'Mapa de Calor da Matriz de Confusão',encoder)"
   ]
  },
  {
   "cell_type": "code",
   "execution_count": 63,
   "metadata": {},
   "outputs": [
    {
     "name": "stdout",
     "output_type": "stream",
     "text": [
      "\u001b[1m2/2\u001b[0m \u001b[32m━━━━━━━━━━━━━━━━━━━━\u001b[0m\u001b[37m\u001b[0m \u001b[1m0s\u001b[0m 94ms/step\n"
     ]
    },
    {
     "data": {
      "image/png": "[encoded data removed]",
      "text/plain": [
       "<Figure size 640x480 with 2 Axes>"
      ]
     },
     "metadata": {},
     "output_type": "display_data"
    }
   ],
   "source": [
    "mapa_calor(modelos_lineares['Perceptron2.keras'].predict(x_test),y_test,'Mapa de Calor da Matriz de Confusão',encoder)"
   ]
  },
  {
   "cell_type": "code",
   "execution_count": 64,
   "metadata": {},
   "outputs": [
    {
     "name": "stdout",
     "output_type": "stream",
     "text": [
      "\u001b[1m2/2\u001b[0m \u001b[32m━━━━━━━━━━━━━━━━━━━━\u001b[0m\u001b[37m\u001b[0m \u001b[1m0s\u001b[0m 93ms/step\n"
     ]
    },
    {
     "data": {
      "image/png": "[encoded data removed]",
      "text/plain": [
       "<Figure size 640x480 with 2 Axes>"
      ]
     },
     "metadata": {},
     "output_type": "display_data"
    }
   ],
   "source": [
    "mapa_calor(modelos_lineares['Perceptron3.keras'].predict(x_test),y_test,'Mapa de Calor da Matriz de Confusão',encoder)"
   ]
  },
  {
   "cell_type": "code",
   "execution_count": 65,
   "metadata": {},
   "outputs": [
    {
     "name": "stdout",
     "output_type": "stream",
     "text": [
      "\u001b[1m2/2\u001b[0m \u001b[32m━━━━━━━━━━━━━━━━━━━━\u001b[0m\u001b[37m\u001b[0m \u001b[1m0s\u001b[0m 98ms/step\n"
     ]
    },
    {
     "data": {
      "image/png": "[encoded data removed]",
      "text/plain": [
       "<Figure size 640x480 with 2 Axes>"
      ]
     },
     "metadata": {},
     "output_type": "display_data"
    }
   ],
   "source": [
    "mapa_calor(modelos_lineares['Perceptron4.keras'].predict(x_test),y_test,'Mapa de Calor da Matriz de Confusão',encoder)"
   ]
  },
  {
   "cell_type": "code",
   "execution_count": 66,
   "metadata": {},
   "outputs": [
    {
     "data": {
      "image/png": "[encoded data removed]",
      "text/plain": [
       "<Figure size 640x480 with 2 Axes>"
      ]
     },
     "metadata": {},
     "output_type": "display_data"
    }
   ],
   "source": [
    "mapa_calor(modelos_lineares['Perceptron5.keras'](x_test),y_test,'Mapa de Calor da Matriz de Confusão',encoder)"
   ]
  },
  {
   "cell_type": "code",
   "execution_count": 67,
   "metadata": {},
   "outputs": [
    {
     "name": "stdout",
     "output_type": "stream",
     "text": [
      "\u001b[1m2/2\u001b[0m \u001b[32m━━━━━━━━━━━━━━━━━━━━\u001b[0m\u001b[37m\u001b[0m \u001b[1m0s\u001b[0m 94ms/step\n"
     ]
    },
    {
     "data": {
      "text/plain": [
       "0.175"
      ]
     },
     "execution_count": 67,
     "metadata": {},
     "output_type": "execute_result"
    }
   ],
   "source": [
    "acuracia(modelos_lineares['Perceptron5.keras'].predict(x_test),y_test)"
   ]
  },
  {
   "cell_type": "code",
   "execution_count": 68,
   "metadata": {},
   "outputs": [
    {
     "name": "stdout",
     "output_type": "stream",
     "text": [
      "\u001b[1m2/2\u001b[0m \u001b[32m━━━━━━━━━━━━━━━━━━━━\u001b[0m\u001b[37m\u001b[0m \u001b[1m0s\u001b[0m 2ms/step \n"
     ]
    },
    {
     "data": {
      "text/plain": [
       "array([[0.9016335 , 0.09836644],\n",
       "       [0.48597378, 0.51402617],\n",
       "       [0.1830831 , 0.81691694],\n",
       "       [0.575338  , 0.4246619 ],\n",
       "       [0.26439875, 0.73560125],\n",
       "       [0.74427974, 0.25572023],\n",
       "       [0.21912467, 0.7808753 ],\n",
       "       [0.6395907 , 0.36040938],\n",
       "       [0.10666165, 0.8933384 ],\n",
       "       [0.22297773, 0.77702224],\n",
       "       [0.7085327 , 0.29146722],\n",
       "       [0.33996546, 0.6600345 ],\n",
       "       [0.5698612 , 0.43013892],\n",
       "       [0.13005382, 0.86994624],\n",
       "       [0.20779696, 0.79220307],\n",
       "       [0.46348426, 0.5365157 ],\n",
       "       [0.65499496, 0.34500507],\n",
       "       [0.44675145, 0.5532486 ],\n",
       "       [0.24308984, 0.75691015],\n",
       "       [0.43571714, 0.5642829 ],\n",
       "       [0.8566696 , 0.14333047],\n",
       "       [0.19339247, 0.80660754],\n",
       "       [0.48029977, 0.5197002 ],\n",
       "       [0.8538998 , 0.14610025],\n",
       "       [0.5971306 , 0.4028693 ],\n",
       "       [0.10451565, 0.8954843 ],\n",
       "       [0.5028405 , 0.49715948],\n",
       "       [0.84818274, 0.1518172 ],\n",
       "       [0.419204  , 0.580796  ],\n",
       "       [0.8995998 , 0.10040025],\n",
       "       [0.3761065 , 0.62389344],\n",
       "       [0.2687739 , 0.7312261 ],\n",
       "       [0.31517622, 0.6848238 ],\n",
       "       [0.19690715, 0.8030929 ],\n",
       "       [0.80309266, 0.19690731],\n",
       "       [0.54207605, 0.45792398],\n",
       "       [0.8724572 , 0.12754276],\n",
       "       [0.16997546, 0.83002454],\n",
       "       [0.7485157 , 0.25148433],\n",
       "       [0.83002454, 0.16997546]], dtype=float32)"
      ]
     },
     "execution_count": 68,
     "metadata": {},
     "output_type": "execute_result"
    }
   ],
   "source": [
    "modelos_lineares['Perceptron0.keras'].predict(x_test)"
   ]
  },
  {
   "cell_type": "code",
   "execution_count": 69,
   "metadata": {},
   "outputs": [],
   "source": [
    "binario = []\n",
    "for i in range(len(dados['cor'].values)):\n",
    "    if dados['cor'].values[i] == 'azul':\n",
    "        binario.append(1)\n",
    "    else:\n",
    "        binario.append(0)\n",
    "dados['binario'] = binario"
   ]
  },
  {
   "cell_type": "code",
   "execution_count": 70,
   "metadata": {},
   "outputs": [
    {
     "data": {
      "text/plain": [
       "123"
      ]
     },
     "execution_count": 70,
     "metadata": {},
     "output_type": "execute_result"
    }
   ],
   "source": [
    "azul = dados[dados[\"cor\"] == \"azul\"]\n",
    "verde = dados[dados[\"cor\"] == \"verde\"]\n",
    "len(azul)"
   ]
  },
  {
   "cell_type": "code",
   "execution_count": 71,
   "metadata": {},
   "outputs": [],
   "source": [
    "espaçamento = .05\n",
    "plt.scatter(azul['comprimento de onda'],azul['binario'],s=2,color='blue')\n",
    "plt.scatter(verde['comprimento de onda'],verde['binario'],s=2,color='green')\n",
    "plt.plot([540,540],[0-(+espaçamento+.01),1+espaçamento+.01],color='red')\n",
    "plt.ylim((0 - espaçamento,1 + espaçamento))\n",
    "plt.xlim((np.min(dados['comprimento de onda'].array) - espaçamento,np.max(dados[\"comprimento de onda\"].array) + espaçamento))\n",
    "plt.xlabel(\"Comprimento de onda (nm)\")\n",
    "plt.ylabel('probabilidade de ser azul')\n",
    "\n",
    "plt.savefig(\"imagens/linearmente separavel.png\")\n",
    "plt.close()"
   ]
  },
  {
   "cell_type": "code",
   "execution_count": 72,
   "metadata": {},
   "outputs": [
    {
     "data": {
      "text/plain": [
       "<Sequential name=sequential_6, built=True>"
      ]
     },
     "execution_count": 72,
     "metadata": {},
     "output_type": "execute_result"
    }
   ],
   "source": [
    "modelos_lineares['Perceptron0.keras']"
   ]
  },
  {
   "cell_type": "code",
   "execution_count": 73,
   "metadata": {},
   "outputs": [],
   "source": [
    "binario = tf.constant(dados['binario'].values.reshape(-1,1))"
   ]
  },
  {
   "cell_type": "code",
   "execution_count": 74,
   "metadata": {},
   "outputs": [
    {
     "name": "stdout",
     "output_type": "stream",
     "text": [
      "\u001b[1m2/2\u001b[0m \u001b[32m━━━━━━━━━━━━━━━━━━━━\u001b[0m\u001b[37m\u001b[0m \u001b[1m0s\u001b[0m 2ms/step \n",
      "\u001b[1m2/2\u001b[0m \u001b[32m━━━━━━━━━━━━━━━━━━━━\u001b[0m\u001b[37m\u001b[0m \u001b[1m0s\u001b[0m 2ms/step \n",
      "\u001b[1m2/2\u001b[0m \u001b[32m━━━━━━━━━━━━━━━━━━━━\u001b[0m\u001b[37m\u001b[0m \u001b[1m0s\u001b[0m 2ms/step \n",
      "\u001b[1m2/2\u001b[0m \u001b[32m━━━━━━━━━━━━━━━━━━━━\u001b[0m\u001b[37m\u001b[0m \u001b[1m0s\u001b[0m 2ms/step \n",
      "\u001b[1m2/2\u001b[0m \u001b[32m━━━━━━━━━━━━━━━━━━━━\u001b[0m\u001b[37m\u001b[0m \u001b[1m0s\u001b[0m 2ms/step \n",
      "\u001b[1m2/2\u001b[0m \u001b[32m━━━━━━━━━━━━━━━━━━━━\u001b[0m\u001b[37m\u001b[0m \u001b[1m0s\u001b[0m 1ms/step \n"
     ]
    },
    {
     "data": {
      "image/png": "[encoded data removed]",
      "text/plain": [
       "<Figure size 640x480 with 1 Axes>"
      ]
     },
     "metadata": {},
     "output_type": "display_data"
    }
   ],
   "source": [
    "x = [1/10**i for i in range(len(modelos_lineares))]\n",
    "y = [acuracia(modelo.predict(x_test),y_test) for modelo in modelos_lineares.values()]\n",
    "\n",
    "plt.scatter(x,y)\n",
    "plt.grid()"
   ]
  },
  {
   "cell_type": "code",
   "execution_count": 75,
   "metadata": {},
   "outputs": [
    {
     "name": "stdout",
     "output_type": "stream",
     "text": [
      "\u001b[1m2/2\u001b[0m \u001b[32m━━━━━━━━━━━━━━━━━━━━\u001b[0m\u001b[37m\u001b[0m \u001b[1m0s\u001b[0m 1ms/step \n"
     ]
    },
    {
     "data": {
      "text/plain": [
       "0.175"
      ]
     },
     "execution_count": 75,
     "metadata": {},
     "output_type": "execute_result"
    }
   ],
   "source": [
    "acuracia(modelos_lineares['Perceptron5.keras'].predict(x_test),y_test)"
   ]
  }
 ],
 "metadata": {
  "kernelspec": {
   "display_name": "regression",
   "language": "python",
   "name": "python3"
  },
  "language_info": {
   "codemirror_mode": {
    "name": "ipython",
    "version": 3
   },
   "file_extension": ".py",
   "mimetype": "text/x-python",
   "name": "python",
   "nbconvert_exporter": "python",
   "pygments_lexer": "ipython3",
   "version": "3.12.7"
  }
 },
 "nbformat": 4,
 "nbformat_minor": 2
}
