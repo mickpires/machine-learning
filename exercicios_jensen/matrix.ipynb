{
 "cells": [
  {
   "cell_type": "code",
   "execution_count": 1,
   "metadata": {},
   "outputs": [],
   "source": [
    "using Symbolics\n",
    "import Symbolics as sy\n",
    "import LinearAlgebra as linalg"
   ]
  },
  {
   "cell_type": "code",
   "execution_count": 2,
   "metadata": {},
   "outputs": [
    {
     "data": {
      "text/plain": [
       "2×2 Matrix{Int64}:\n",
       " 1  0\n",
       " 0  1"
      ]
     },
     "metadata": {},
     "output_type": "display_data"
    }
   ],
   "source": [
    "\n",
    "A = [\n",
    "    1 0\n",
    "    0 1\n",
    "]\n"
   ]
  },
  {
   "cell_type": "code",
   "execution_count": 3,
   "metadata": {},
   "outputs": [
    {
     "data": {
      "text/latex": [
       "$$ \\begin{equation}\n",
       "\\left[\n",
       "\\begin{array}{cc}\n",
       "B_{1}ˏ_1 & B_{1}ˏ_2 \\\\\n",
       "B_{2}ˏ_1 & B_{2}ˏ_2 \\\\\n",
       "\\end{array}\n",
       "\\right]\n",
       "\\end{equation}\n",
       " $$"
      ],
      "text/plain": [
       "2×2 Matrix{Num}:\n",
       " B₁ˏ₁  B₁ˏ₂\n",
       " B₂ˏ₁  B₂ˏ₂"
      ]
     },
     "metadata": {},
     "output_type": "display_data"
    }
   ],
   "source": [
    "B = sy.variables(:B,1:2,1:2)"
   ]
  },
  {
   "cell_type": "code",
   "execution_count": 4,
   "metadata": {},
   "outputs": [
    {
     "data": {
      "text/plain": [
       "LinearAlgebra.SVD{Float64, Float64, Matrix{Float64}, Vector{Float64}}\n",
       "U factor:\n",
       "2×2 Matrix{Float64}:\n",
       " 0.661803  -0.749678\n",
       " 0.749678   0.661803\n",
       "singular values:\n",
       "2-element Vector{Float64}:\n",
       " 6.531128874149275\n",
       " 1.5311288741492748\n",
       "Vt factor:\n",
       "2×2 Matrix{Float64}:\n",
       "  0.202661  0.979249\n",
       " -0.979249  0.202661"
      ]
     },
     "metadata": {},
     "output_type": "display_data"
    }
   ],
   "source": [
    "c = [\n",
    "    2 4\n",
    "    0 5\n",
    "]\n",
    "u, Σ, Vᵀ = linalg.svd(c)"
   ]
  },
  {
   "cell_type": "code",
   "execution_count": 5,
   "metadata": {},
   "outputs": [
    {
     "ename": "DimensionMismatch",
     "evalue": "DimensionMismatch: A has dimensions (2,1) but B has dimensions (2,2)",
     "output_type": "error",
     "traceback": [
      "DimensionMismatch: A has dimensions (2,1) but B has dimensions (2,2)\n",
      "\n",
      "Stacktrace:\n",
      " [1] gemm_wrapper!(C::Matrix{Float64}, tA::Char, tB::Char, A::Matrix{Float64}, B::Matrix{Float64}, _add::LinearAlgebra.MulAddMul{true, true, Bool, Bool})\n",
      "   @ LinearAlgebra ~/.julia/juliaup/julia-1.10.3+0.x64.linux.gnu/share/julia/stdlib/v1.10/LinearAlgebra/src/matmul.jl:577\n",
      " [2] generic_matmatmul!\n",
      "   @ ~/.julia/juliaup/julia-1.10.3+0.x64.linux.gnu/share/julia/stdlib/v1.10/LinearAlgebra/src/matmul.jl:352 [inlined]\n",
      " [3] mul!\n",
      "   @ ~/.julia/juliaup/julia-1.10.3+0.x64.linux.gnu/share/julia/stdlib/v1.10/LinearAlgebra/src/matmul.jl:263 [inlined]\n",
      " [4] mul!\n",
      "   @ ~/.julia/juliaup/julia-1.10.3+0.x64.linux.gnu/share/julia/stdlib/v1.10/LinearAlgebra/src/matmul.jl:237 [inlined]\n",
      " [5] *(A::Matrix{Float64}, B::LinearAlgebra.Transpose{Float64, Matrix{Float64}})\n",
      "   @ LinearAlgebra ~/.julia/juliaup/julia-1.10.3+0.x64.linux.gnu/share/julia/stdlib/v1.10/LinearAlgebra/src/matmul.jl:113\n",
      " [6] *\n",
      "   @ ~/.julia/juliaup/julia-1.10.3+0.x64.linux.gnu/share/julia/stdlib/v1.10/LinearAlgebra/src/matmul.jl:61 [inlined]\n",
      " [7] *(::Matrix{Float64}, ::Vector{Float64}, ::LinearAlgebra.Transpose{Float64, Matrix{Float64}})\n",
      "   @ Base ./operators.jl:587\n",
      " [8] top-level scope\n",
      "   @ ~/faculdade/tcc/machine-learning/exercicios_jensen/matrix.ipynb:1"
     ]
    }
   ],
   "source": [
    "u*Σ*transpose(u)"
   ]
  },
  {
   "cell_type": "code",
   "execution_count": 16,
   "metadata": {},
   "outputs": [
    {
     "ename": "DimensionMismatch",
     "evalue": "DimensionMismatch: A has dimensions (2,1) but B has dimensions (2,2)",
     "output_type": "error",
     "traceback": [
      "DimensionMismatch: A has dimensions (2,1) but B has dimensions (2,2)\n",
      "\n",
      "Stacktrace:\n",
      " [1] gemm_wrapper!(C::Matrix{Float64}, tA::Char, tB::Char, A::Matrix{Float64}, B::Matrix{Float64}, _add::LinearAlgebra.MulAddMul{true, true, Bool, Bool})\n",
      "   @ LinearAlgebra ~/.julia/juliaup/julia-1.10.3+0.x64.linux.gnu/share/julia/stdlib/v1.10/LinearAlgebra/src/matmul.jl:577\n",
      " [2] generic_matmatmul!\n",
      "   @ ~/.julia/juliaup/julia-1.10.3+0.x64.linux.gnu/share/julia/stdlib/v1.10/LinearAlgebra/src/matmul.jl:352 [inlined]\n",
      " [3] mul!\n",
      "   @ ~/.julia/juliaup/julia-1.10.3+0.x64.linux.gnu/share/julia/stdlib/v1.10/LinearAlgebra/src/matmul.jl:263 [inlined]\n",
      " [4] mul!\n",
      "   @ ~/.julia/juliaup/julia-1.10.3+0.x64.linux.gnu/share/julia/stdlib/v1.10/LinearAlgebra/src/matmul.jl:237 [inlined]\n",
      " [5] *(A::Matrix{Float64}, B::LinearAlgebra.Adjoint{Float64, Matrix{Float64}})\n",
      "   @ LinearAlgebra ~/.julia/juliaup/julia-1.10.3+0.x64.linux.gnu/share/julia/stdlib/v1.10/LinearAlgebra/src/matmul.jl:113\n",
      " [6] *\n",
      "   @ ~/.julia/juliaup/julia-1.10.3+0.x64.linux.gnu/share/julia/stdlib/v1.10/LinearAlgebra/src/matmul.jl:62 [inlined]\n",
      " [7] *(::Matrix{Float64}, ::Vector{Float64}, ::LinearAlgebra.Adjoint{Float64, Matrix{Float64}})\n",
      "   @ Base ./operators.jl:587\n",
      " [8] top-level scope\n",
      "   @ ~/faculdade/tcc/machine-learning/exercicios_jensen/matrix.ipynb:1"
     ]
    }
   ],
   "source": [
    "u*Σ*Vᵀ"
   ]
  },
  {
   "cell_type": "code",
   "execution_count": null,
   "metadata": {},
   "outputs": [],
   "source": []
  }
 ],
 "metadata": {
  "kernelspec": {
   "display_name": "Julia 1.10.3",
   "language": "julia",
   "name": "julia-1.10"
  },
  "language_info": {
   "file_extension": ".jl",
   "mimetype": "application/julia",
   "name": "julia",
   "version": "1.10.3"
  }
 },
 "nbformat": 4,
 "nbformat_minor": 2
}
