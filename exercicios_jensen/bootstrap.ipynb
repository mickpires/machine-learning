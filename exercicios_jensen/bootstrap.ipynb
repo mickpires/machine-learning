{
 "cells": [
  {
   "cell_type": "code",
   "execution_count": 86,
   "metadata": {},
   "outputs": [],
   "source": [
    "\n",
    "import numpy as np\n",
    "import matplotlib.pyplot as plt \n",
    "\n",
    "import pandas as pd  \n",
    "import seaborn as sns\n",
    "\n",
    "from sklearn.model_selection import train_test_split\n"
   ]
  },
  {
   "cell_type": "markdown",
   "metadata": {},
   "source": [
    "Obter o verdadeira media e o verdadeiro desvio padrão usando bootstrap"
   ]
  },
  {
   "cell_type": "code",
   "execution_count": 87,
   "metadata": {},
   "outputs": [],
   "source": [
    "mean = 100\n",
    "sigma = 50\n",
    "size = 10000\n",
    "y = np.random.normal(mean,sigma,size)"
   ]
  },
  {
   "cell_type": "code",
   "execution_count": 88,
   "metadata": {},
   "outputs": [
    {
     "name": "stdout",
     "output_type": "stream",
     "text": [
      "Média real dos dados: 99.62251300121282 \n",
      "Média calculada pelo método do bootstrap: 99.6221572751577\n",
      "std. real: 50.617658067523095.\n",
      "Std calculado pelo bootstrap: 51.034254330389686\n"
     ]
    }
   ],
   "source": [
    "b = 10000\n",
    "sample_mean = np.zeros(b)\n",
    "\n",
    "for i in range(b):\n",
    "    t = y[np.random.randint(0,size,size)]\n",
    "    sample_mean[i] = np.mean(t)\n",
    "    \n",
    "bootstrap_mean = 1/b*np.sum(sample_mean)\n",
    "std = 100 *np.sqrt(1/b * np.sum((sample_mean - bootstrap_mean)**2))\n",
    "\n",
    "print(f'Média real dos dados: {np.mean(y)} \\nMédia calculada pelo método do bootstrap: {1/b*np.sum(sample_mean)}')\n",
    "print(f'std. real: {np.std(y)}.\\nStd calculado pelo bootstrap: {std}')"
   ]
  },
  {
   "cell_type": "code",
   "execution_count": null,
   "metadata": {},
   "outputs": [],
   "source": []
  }
 ],
 "metadata": {
  "kernelspec": {
   "display_name": "base",
   "language": "python",
   "name": "python3"
  },
  "language_info": {
   "codemirror_mode": {
    "name": "ipython",
    "version": 3
   },
   "file_extension": ".py",
   "mimetype": "text/x-python",
   "name": "python",
   "nbconvert_exporter": "python",
   "pygments_lexer": "ipython3",
   "version": "3.11.9"
  }
 },
 "nbformat": 4,
 "nbformat_minor": 2
}
