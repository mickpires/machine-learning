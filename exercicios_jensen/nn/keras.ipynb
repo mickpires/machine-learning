{
 "cells": [
  {
   "cell_type": "code",
   "execution_count": 8,
   "metadata": {},
   "outputs": [],
   "source": [
    "import numpy as np\n",
    "import matplotlib.pyplot as plt\n",
    "from sklearn import datasets\n",
    "from sklearn.model_selection import train_test_split\n",
    "from tensorflow.keras.layers import Input\n",
    "from tensorflow.keras.models import Sequential      #This allows appending layers to existing models\n",
    "from tensorflow.keras.layers import Dense           #This allows defining the characteristics of a particular layer\n",
    "from tensorflow.keras import optimizers             #This allows using whichever optimiser we want (sgd,adam,RMSprop)\n",
    "from tensorflow.keras import regularizers           #This allows using whichever regularizer we want (l1,l2,l1_l2)\n",
    "from tensorflow.keras.utils import to_categorical   #This allows using categorical cross entropy as the cost function"
   ]
  },
  {
   "cell_type": "code",
   "execution_count": 2,
   "metadata": {},
   "outputs": [],
   "source": [
    "np.random.seed(0)"
   ]
  },
  {
   "cell_type": "code",
   "execution_count": 3,
   "metadata": {},
   "outputs": [],
   "source": [
    "digits = datasets.load_digits()"
   ]
  },
  {
   "cell_type": "code",
   "execution_count": 4,
   "metadata": {},
   "outputs": [],
   "source": [
    "inputs = digits.images\n",
    "labels = digits.target"
   ]
  },
  {
   "cell_type": "code",
   "execution_count": 5,
   "metadata": {},
   "outputs": [
    {
     "name": "stdout",
     "output_type": "stream",
     "text": [
      "X = (n inputs,n features) = (1797, 64)\n"
     ]
    }
   ],
   "source": [
    "n_inputs = len(inputs)\n",
    "inputs = inputs.reshape(n_inputs,-1)\n",
    "print(f'X = (n inputs,n features) = {inputs.shape}')"
   ]
  },
  {
   "cell_type": "code",
   "execution_count": 9,
   "metadata": {},
   "outputs": [],
   "source": [
    "labels = to_categorical(labels)\n",
    "\n",
    "train_size = .8\n",
    "test_size = 1 - train_size\n",
    "\n",
    "x_train,x_test,y_train,y_test = train_test_split(inputs,labels,train_size=train_size,test_size=test_size)"
   ]
  },
  {
   "cell_type": "code",
   "execution_count": 12,
   "metadata": {},
   "outputs": [],
   "source": [
    "epochs = 100\n",
    "batch_size = 100\n",
    "n_neurons_layers1 = 100\n",
    "n_neurons_layers2 = 50\n",
    "n_categories = 10\n",
    "eta_vals = np.logspace(-5,1,7)\n",
    "lmbd_vals = np.logspace(-5,1,7)\n",
    "\n",
    "def create_neural_network_keras(n_neurons_layers1,n_neurons_layers2,n_categories,eta,lmbd):\n",
    "    model = Sequential()\n",
    "    model.add(Dense(n_neurons_layers1,activation='sigmoid',kernel_regularizer=regularizers.l2(lmbd)))\n",
    "    model.add(Dense(n_neurons_layers2,activation='sigmoid',kernel_regularizer=regularizers.l2(lmbd)))\n",
    "    model.add(Dense(n_categories,activation='softmax',kernel_regularizer=regularizers.l2(lmbd)))\n",
    "\n",
    "    sgd = optimizers.SGD(lr=eta)\n",
    "    model.compile(loss='categorical_crossentropy',optimizer=sgd,metrics=['accuracy'])\n",
    "\n",
    "    return model"
   ]
  },
  {
   "cell_type": "markdown",
   "metadata": {},
   "source": [
    "# grid search manualmente"
   ]
  },
  {
   "cell_type": "code",
   "execution_count": 13,
   "metadata": {},
   "outputs": [
    {
     "name": "stderr",
     "output_type": "stream",
     "text": [
      "2024-07-04 22:18:02.159618: I tensorflow/core/common_runtime/process_util.cc:146] Creating new thread pool with default inter op setting: 2. Tune using inter_op_parallelism_threads for best performance.\n",
      "WARNING:absl:`lr` is deprecated in Keras optimizer, please use `learning_rate` or use the legacy optimizer, e.g.,tf.keras.optimizers.legacy.SGD.\n"
     ]
    },
    {
     "name": "stdout",
     "output_type": "stream",
     "text": [
      "12/12 [==============================] - 0s 6ms/step - loss: 1.1552 - accuracy: 0.8667\n"
     ]
    },
    {
     "name": "stderr",
     "output_type": "stream",
     "text": [
      "WARNING:absl:`lr` is deprecated in Keras optimizer, please use `learning_rate` or use the legacy optimizer, e.g.,tf.keras.optimizers.legacy.SGD.\n"
     ]
    },
    {
     "name": "stdout",
     "output_type": "stream",
     "text": [
      "learning rate = 1e-05\n",
      "Lambda = 1e-05\n",
      "Test Accuracy = 0.8666666746139526\n",
      "\n",
      "12/12 [==============================] - 0s 3ms/step - loss: 1.0514 - accuracy: 0.8750\n"
     ]
    },
    {
     "name": "stderr",
     "output_type": "stream",
     "text": [
      "WARNING:absl:`lr` is deprecated in Keras optimizer, please use `learning_rate` or use the legacy optimizer, e.g.,tf.keras.optimizers.legacy.SGD.\n"
     ]
    },
    {
     "name": "stdout",
     "output_type": "stream",
     "text": [
      "learning rate = 1e-05\n",
      "Lambda = 0.0001\n",
      "Test Accuracy = 0.875\n",
      "\n",
      "12/12 [==============================] - 0s 5ms/step - loss: 1.2665 - accuracy: 0.8750\n"
     ]
    },
    {
     "name": "stderr",
     "output_type": "stream",
     "text": [
      "WARNING:absl:`lr` is deprecated in Keras optimizer, please use `learning_rate` or use the legacy optimizer, e.g.,tf.keras.optimizers.legacy.SGD.\n"
     ]
    },
    {
     "name": "stdout",
     "output_type": "stream",
     "text": [
      "learning rate = 1e-05\n",
      "Lambda = 0.001\n",
      "Test Accuracy = 0.875\n",
      "\n",
      "12/12 [==============================] - 0s 5ms/step - loss: 2.4926 - accuracy: 0.8333\n"
     ]
    },
    {
     "name": "stderr",
     "output_type": "stream",
     "text": [
      "WARNING:absl:`lr` is deprecated in Keras optimizer, please use `learning_rate` or use the legacy optimizer, e.g.,tf.keras.optimizers.legacy.SGD.\n"
     ]
    },
    {
     "name": "stdout",
     "output_type": "stream",
     "text": [
      "learning rate = 1e-05\n",
      "Lambda = 0.01\n",
      "Test Accuracy = 0.8333333134651184\n",
      "\n",
      "12/12 [==============================] - 0s 6ms/step - loss: 2.3538 - accuracy: 0.1472\n"
     ]
    },
    {
     "name": "stderr",
     "output_type": "stream",
     "text": [
      "WARNING:absl:`lr` is deprecated in Keras optimizer, please use `learning_rate` or use the legacy optimizer, e.g.,tf.keras.optimizers.legacy.SGD.\n"
     ]
    },
    {
     "name": "stdout",
     "output_type": "stream",
     "text": [
      "learning rate = 1e-05\n",
      "Lambda = 0.1\n",
      "Test Accuracy = 0.14722222089767456\n",
      "\n",
      "12/12 [==============================] - 0s 4ms/step - loss: 2.3080 - accuracy: 0.0806\n"
     ]
    },
    {
     "name": "stderr",
     "output_type": "stream",
     "text": [
      "WARNING:absl:`lr` is deprecated in Keras optimizer, please use `learning_rate` or use the legacy optimizer, e.g.,tf.keras.optimizers.legacy.SGD.\n"
     ]
    },
    {
     "name": "stdout",
     "output_type": "stream",
     "text": [
      "learning rate = 1e-05\n",
      "Lambda = 1.0\n",
      "Test Accuracy = 0.08055555820465088\n",
      "\n",
      "12/12 [==============================] - 0s 5ms/step - loss: 2.3073 - accuracy: 0.0806\n"
     ]
    },
    {
     "name": "stderr",
     "output_type": "stream",
     "text": [
      "WARNING:absl:`lr` is deprecated in Keras optimizer, please use `learning_rate` or use the legacy optimizer, e.g.,tf.keras.optimizers.legacy.SGD.\n"
     ]
    },
    {
     "name": "stdout",
     "output_type": "stream",
     "text": [
      "learning rate = 1e-05\n",
      "Lambda = 10.0\n",
      "Test Accuracy = 0.08055555820465088\n",
      "\n",
      "12/12 [==============================] - 0s 4ms/step - loss: 1.1032 - accuracy: 0.8583\n"
     ]
    },
    {
     "name": "stderr",
     "output_type": "stream",
     "text": [
      "WARNING:absl:`lr` is deprecated in Keras optimizer, please use `learning_rate` or use the legacy optimizer, e.g.,tf.keras.optimizers.legacy.SGD.\n"
     ]
    },
    {
     "name": "stdout",
     "output_type": "stream",
     "text": [
      "learning rate = 0.0001\n",
      "Lambda = 1e-05\n",
      "Test Accuracy = 0.8583333492279053\n",
      "\n",
      "12/12 [==============================] - 0s 5ms/step - loss: 1.1206 - accuracy: 0.8083\n"
     ]
    },
    {
     "name": "stderr",
     "output_type": "stream",
     "text": [
      "WARNING:absl:`lr` is deprecated in Keras optimizer, please use `learning_rate` or use the legacy optimizer, e.g.,tf.keras.optimizers.legacy.SGD.\n"
     ]
    },
    {
     "name": "stdout",
     "output_type": "stream",
     "text": [
      "learning rate = 0.0001\n",
      "Lambda = 0.0001\n",
      "Test Accuracy = 0.8083333373069763\n",
      "\n",
      "12/12 [==============================] - 0s 6ms/step - loss: 1.3263 - accuracy: 0.8750\n"
     ]
    },
    {
     "name": "stderr",
     "output_type": "stream",
     "text": [
      "WARNING:absl:`lr` is deprecated in Keras optimizer, please use `learning_rate` or use the legacy optimizer, e.g.,tf.keras.optimizers.legacy.SGD.\n"
     ]
    },
    {
     "name": "stdout",
     "output_type": "stream",
     "text": [
      "learning rate = 0.0001\n",
      "Lambda = 0.001\n",
      "Test Accuracy = 0.875\n",
      "\n",
      "12/12 [==============================] - 0s 7ms/step - loss: 2.5884 - accuracy: 0.7861\n"
     ]
    },
    {
     "name": "stderr",
     "output_type": "stream",
     "text": [
      "WARNING:absl:`lr` is deprecated in Keras optimizer, please use `learning_rate` or use the legacy optimizer, e.g.,tf.keras.optimizers.legacy.SGD.\n"
     ]
    },
    {
     "name": "stdout",
     "output_type": "stream",
     "text": [
      "learning rate = 0.0001\n",
      "Lambda = 0.01\n",
      "Test Accuracy = 0.7861111164093018\n",
      "\n",
      "12/12 [==============================] - 0s 8ms/step - loss: 2.3518 - accuracy: 0.0806\n"
     ]
    },
    {
     "name": "stderr",
     "output_type": "stream",
     "text": [
      "WARNING:absl:`lr` is deprecated in Keras optimizer, please use `learning_rate` or use the legacy optimizer, e.g.,tf.keras.optimizers.legacy.SGD.\n"
     ]
    },
    {
     "name": "stdout",
     "output_type": "stream",
     "text": [
      "learning rate = 0.0001\n",
      "Lambda = 0.1\n",
      "Test Accuracy = 0.08055555820465088\n",
      "\n",
      "12/12 [==============================] - 0s 4ms/step - loss: 2.3075 - accuracy: 0.0806\n"
     ]
    },
    {
     "name": "stderr",
     "output_type": "stream",
     "text": [
      "WARNING:absl:`lr` is deprecated in Keras optimizer, please use `learning_rate` or use the legacy optimizer, e.g.,tf.keras.optimizers.legacy.SGD.\n"
     ]
    },
    {
     "name": "stdout",
     "output_type": "stream",
     "text": [
      "learning rate = 0.0001\n",
      "Lambda = 1.0\n",
      "Test Accuracy = 0.08055555820465088\n",
      "\n",
      "12/12 [==============================] - 0s 7ms/step - loss: 2.3088 - accuracy: 0.0750\n"
     ]
    },
    {
     "name": "stderr",
     "output_type": "stream",
     "text": [
      "WARNING:absl:`lr` is deprecated in Keras optimizer, please use `learning_rate` or use the legacy optimizer, e.g.,tf.keras.optimizers.legacy.SGD.\n"
     ]
    },
    {
     "name": "stdout",
     "output_type": "stream",
     "text": [
      "learning rate = 0.0001\n",
      "Lambda = 10.0\n",
      "Test Accuracy = 0.07500000298023224\n",
      "\n",
      "12/12 [==============================] - 0s 6ms/step - loss: 1.0952 - accuracy: 0.8778\n"
     ]
    },
    {
     "name": "stderr",
     "output_type": "stream",
     "text": [
      "WARNING:absl:`lr` is deprecated in Keras optimizer, please use `learning_rate` or use the legacy optimizer, e.g.,tf.keras.optimizers.legacy.SGD.\n"
     ]
    },
    {
     "name": "stdout",
     "output_type": "stream",
     "text": [
      "learning rate = 0.001\n",
      "Lambda = 1e-05\n",
      "Test Accuracy = 0.8777777552604675\n",
      "\n",
      "12/12 [==============================] - 0s 6ms/step - loss: 1.1238 - accuracy: 0.8500\n"
     ]
    },
    {
     "name": "stderr",
     "output_type": "stream",
     "text": [
      "WARNING:absl:`lr` is deprecated in Keras optimizer, please use `learning_rate` or use the legacy optimizer, e.g.,tf.keras.optimizers.legacy.SGD.\n"
     ]
    },
    {
     "name": "stdout",
     "output_type": "stream",
     "text": [
      "learning rate = 0.001\n",
      "Lambda = 0.0001\n",
      "Test Accuracy = 0.8500000238418579\n",
      "\n",
      "12/12 [==============================] - 0s 3ms/step - loss: 1.2848 - accuracy: 0.8694\n"
     ]
    },
    {
     "name": "stderr",
     "output_type": "stream",
     "text": [
      "WARNING:absl:`lr` is deprecated in Keras optimizer, please use `learning_rate` or use the legacy optimizer, e.g.,tf.keras.optimizers.legacy.SGD.\n"
     ]
    },
    {
     "name": "stdout",
     "output_type": "stream",
     "text": [
      "learning rate = 0.001\n",
      "Lambda = 0.001\n",
      "Test Accuracy = 0.8694444298744202\n",
      "\n",
      "12/12 [==============================] - 0s 6ms/step - loss: 2.4805 - accuracy: 0.8333\n"
     ]
    },
    {
     "name": "stderr",
     "output_type": "stream",
     "text": [
      "WARNING:absl:`lr` is deprecated in Keras optimizer, please use `learning_rate` or use the legacy optimizer, e.g.,tf.keras.optimizers.legacy.SGD.\n"
     ]
    },
    {
     "name": "stdout",
     "output_type": "stream",
     "text": [
      "learning rate = 0.001\n",
      "Lambda = 0.01\n",
      "Test Accuracy = 0.8333333134651184\n",
      "\n",
      "12/12 [==============================] - 0s 4ms/step - loss: 2.3551 - accuracy: 0.0806\n"
     ]
    },
    {
     "name": "stderr",
     "output_type": "stream",
     "text": [
      "WARNING:absl:`lr` is deprecated in Keras optimizer, please use `learning_rate` or use the legacy optimizer, e.g.,tf.keras.optimizers.legacy.SGD.\n"
     ]
    },
    {
     "name": "stdout",
     "output_type": "stream",
     "text": [
      "learning rate = 0.001\n",
      "Lambda = 0.1\n",
      "Test Accuracy = 0.08055555820465088\n",
      "\n",
      "12/12 [==============================] - 0s 3ms/step - loss: 2.3072 - accuracy: 0.0806\n"
     ]
    },
    {
     "name": "stderr",
     "output_type": "stream",
     "text": [
      "WARNING:absl:`lr` is deprecated in Keras optimizer, please use `learning_rate` or use the legacy optimizer, e.g.,tf.keras.optimizers.legacy.SGD.\n"
     ]
    },
    {
     "name": "stdout",
     "output_type": "stream",
     "text": [
      "learning rate = 0.001\n",
      "Lambda = 1.0\n",
      "Test Accuracy = 0.08055555820465088\n",
      "\n",
      "12/12 [==============================] - 0s 3ms/step - loss: 2.3077 - accuracy: 0.0806\n"
     ]
    },
    {
     "name": "stderr",
     "output_type": "stream",
     "text": [
      "WARNING:absl:`lr` is deprecated in Keras optimizer, please use `learning_rate` or use the legacy optimizer, e.g.,tf.keras.optimizers.legacy.SGD.\n"
     ]
    },
    {
     "name": "stdout",
     "output_type": "stream",
     "text": [
      "learning rate = 0.001\n",
      "Lambda = 10.0\n",
      "Test Accuracy = 0.08055555820465088\n",
      "\n",
      "12/12 [==============================] - 0s 8ms/step - loss: 1.1144 - accuracy: 0.8861\n"
     ]
    },
    {
     "name": "stderr",
     "output_type": "stream",
     "text": [
      "WARNING:absl:`lr` is deprecated in Keras optimizer, please use `learning_rate` or use the legacy optimizer, e.g.,tf.keras.optimizers.legacy.SGD.\n"
     ]
    },
    {
     "name": "stdout",
     "output_type": "stream",
     "text": [
      "learning rate = 0.01\n",
      "Lambda = 1e-05\n",
      "Test Accuracy = 0.8861111402511597\n",
      "\n",
      "12/12 [==============================] - 0s 4ms/step - loss: 1.2012 - accuracy: 0.8472\n"
     ]
    },
    {
     "name": "stderr",
     "output_type": "stream",
     "text": [
      "WARNING:absl:`lr` is deprecated in Keras optimizer, please use `learning_rate` or use the legacy optimizer, e.g.,tf.keras.optimizers.legacy.SGD.\n"
     ]
    },
    {
     "name": "stdout",
     "output_type": "stream",
     "text": [
      "learning rate = 0.01\n",
      "Lambda = 0.0001\n",
      "Test Accuracy = 0.8472222089767456\n",
      "\n",
      "12/12 [==============================] - 0s 4ms/step - loss: 1.3252 - accuracy: 0.9000\n"
     ]
    },
    {
     "name": "stderr",
     "output_type": "stream",
     "text": [
      "WARNING:absl:`lr` is deprecated in Keras optimizer, please use `learning_rate` or use the legacy optimizer, e.g.,tf.keras.optimizers.legacy.SGD.\n"
     ]
    },
    {
     "name": "stdout",
     "output_type": "stream",
     "text": [
      "learning rate = 0.01\n",
      "Lambda = 0.001\n",
      "Test Accuracy = 0.8999999761581421\n",
      "\n",
      "12/12 [==============================] - 0s 5ms/step - loss: 2.4828 - accuracy: 0.8222\n"
     ]
    },
    {
     "name": "stderr",
     "output_type": "stream",
     "text": [
      "WARNING:absl:`lr` is deprecated in Keras optimizer, please use `learning_rate` or use the legacy optimizer, e.g.,tf.keras.optimizers.legacy.SGD.\n"
     ]
    },
    {
     "name": "stdout",
     "output_type": "stream",
     "text": [
      "learning rate = 0.01\n",
      "Lambda = 0.01\n",
      "Test Accuracy = 0.8222222328186035\n",
      "\n",
      "12/12 [==============================] - 0s 5ms/step - loss: 2.3528 - accuracy: 0.1556\n"
     ]
    },
    {
     "name": "stderr",
     "output_type": "stream",
     "text": [
      "WARNING:absl:`lr` is deprecated in Keras optimizer, please use `learning_rate` or use the legacy optimizer, e.g.,tf.keras.optimizers.legacy.SGD.\n"
     ]
    },
    {
     "name": "stdout",
     "output_type": "stream",
     "text": [
      "learning rate = 0.01\n",
      "Lambda = 0.1\n",
      "Test Accuracy = 0.15555556118488312\n",
      "\n",
      "12/12 [==============================] - 0s 5ms/step - loss: 2.3074 - accuracy: 0.0806\n"
     ]
    },
    {
     "name": "stderr",
     "output_type": "stream",
     "text": [
      "WARNING:absl:`lr` is deprecated in Keras optimizer, please use `learning_rate` or use the legacy optimizer, e.g.,tf.keras.optimizers.legacy.SGD.\n"
     ]
    },
    {
     "name": "stdout",
     "output_type": "stream",
     "text": [
      "learning rate = 0.01\n",
      "Lambda = 1.0\n",
      "Test Accuracy = 0.08055555820465088\n",
      "\n",
      "12/12 [==============================] - 0s 3ms/step - loss: 2.3081 - accuracy: 0.0806\n"
     ]
    },
    {
     "name": "stderr",
     "output_type": "stream",
     "text": [
      "WARNING:absl:`lr` is deprecated in Keras optimizer, please use `learning_rate` or use the legacy optimizer, e.g.,tf.keras.optimizers.legacy.SGD.\n"
     ]
    },
    {
     "name": "stdout",
     "output_type": "stream",
     "text": [
      "learning rate = 0.01\n",
      "Lambda = 10.0\n",
      "Test Accuracy = 0.08055555820465088\n",
      "\n",
      "12/12 [==============================] - 0s 4ms/step - loss: 1.2133 - accuracy: 0.8889\n"
     ]
    },
    {
     "name": "stderr",
     "output_type": "stream",
     "text": [
      "WARNING:absl:`lr` is deprecated in Keras optimizer, please use `learning_rate` or use the legacy optimizer, e.g.,tf.keras.optimizers.legacy.SGD.\n"
     ]
    },
    {
     "name": "stdout",
     "output_type": "stream",
     "text": [
      "learning rate = 0.1\n",
      "Lambda = 1e-05\n",
      "Test Accuracy = 0.8888888955116272\n",
      "\n",
      "12/12 [==============================] - 0s 8ms/step - loss: 1.1150 - accuracy: 0.8611\n"
     ]
    },
    {
     "name": "stderr",
     "output_type": "stream",
     "text": [
      "WARNING:absl:`lr` is deprecated in Keras optimizer, please use `learning_rate` or use the legacy optimizer, e.g.,tf.keras.optimizers.legacy.SGD.\n"
     ]
    },
    {
     "name": "stdout",
     "output_type": "stream",
     "text": [
      "learning rate = 0.1\n",
      "Lambda = 0.0001\n",
      "Test Accuracy = 0.8611111044883728\n",
      "\n",
      "12/12 [==============================] - 0s 5ms/step - loss: 1.3064 - accuracy: 0.8500\n"
     ]
    },
    {
     "name": "stderr",
     "output_type": "stream",
     "text": [
      "WARNING:absl:`lr` is deprecated in Keras optimizer, please use `learning_rate` or use the legacy optimizer, e.g.,tf.keras.optimizers.legacy.SGD.\n"
     ]
    },
    {
     "name": "stdout",
     "output_type": "stream",
     "text": [
      "learning rate = 0.1\n",
      "Lambda = 0.001\n",
      "Test Accuracy = 0.8500000238418579\n",
      "\n",
      "12/12 [==============================] - 0s 3ms/step - loss: 2.5497 - accuracy: 0.7889\n"
     ]
    },
    {
     "name": "stderr",
     "output_type": "stream",
     "text": [
      "WARNING:absl:`lr` is deprecated in Keras optimizer, please use `learning_rate` or use the legacy optimizer, e.g.,tf.keras.optimizers.legacy.SGD.\n"
     ]
    },
    {
     "name": "stdout",
     "output_type": "stream",
     "text": [
      "learning rate = 0.1\n",
      "Lambda = 0.01\n",
      "Test Accuracy = 0.7888888716697693\n",
      "\n",
      "12/12 [==============================] - 0s 6ms/step - loss: 2.3561 - accuracy: 0.0806\n"
     ]
    },
    {
     "name": "stderr",
     "output_type": "stream",
     "text": [
      "WARNING:absl:`lr` is deprecated in Keras optimizer, please use `learning_rate` or use the legacy optimizer, e.g.,tf.keras.optimizers.legacy.SGD.\n"
     ]
    },
    {
     "name": "stdout",
     "output_type": "stream",
     "text": [
      "learning rate = 0.1\n",
      "Lambda = 0.1\n",
      "Test Accuracy = 0.08055555820465088\n",
      "\n",
      "12/12 [==============================] - 0s 6ms/step - loss: 2.3080 - accuracy: 0.0806\n"
     ]
    },
    {
     "name": "stderr",
     "output_type": "stream",
     "text": [
      "WARNING:absl:`lr` is deprecated in Keras optimizer, please use `learning_rate` or use the legacy optimizer, e.g.,tf.keras.optimizers.legacy.SGD.\n"
     ]
    },
    {
     "name": "stdout",
     "output_type": "stream",
     "text": [
      "learning rate = 0.1\n",
      "Lambda = 1.0\n",
      "Test Accuracy = 0.08055555820465088\n",
      "\n",
      "12/12 [==============================] - 0s 3ms/step - loss: 2.3078 - accuracy: 0.0750\n"
     ]
    },
    {
     "name": "stderr",
     "output_type": "stream",
     "text": [
      "WARNING:absl:`lr` is deprecated in Keras optimizer, please use `learning_rate` or use the legacy optimizer, e.g.,tf.keras.optimizers.legacy.SGD.\n"
     ]
    },
    {
     "name": "stdout",
     "output_type": "stream",
     "text": [
      "learning rate = 0.1\n",
      "Lambda = 10.0\n",
      "Test Accuracy = 0.07500000298023224\n",
      "\n",
      "12/12 [==============================] - 0s 4ms/step - loss: 1.1525 - accuracy: 0.8083\n"
     ]
    },
    {
     "name": "stderr",
     "output_type": "stream",
     "text": [
      "WARNING:absl:`lr` is deprecated in Keras optimizer, please use `learning_rate` or use the legacy optimizer, e.g.,tf.keras.optimizers.legacy.SGD.\n"
     ]
    },
    {
     "name": "stdout",
     "output_type": "stream",
     "text": [
      "learning rate = 1.0\n",
      "Lambda = 1e-05\n",
      "Test Accuracy = 0.8083333373069763\n",
      "\n",
      "12/12 [==============================] - 0s 2ms/step - loss: 1.0711 - accuracy: 0.8556\n"
     ]
    },
    {
     "name": "stderr",
     "output_type": "stream",
     "text": [
      "WARNING:absl:`lr` is deprecated in Keras optimizer, please use `learning_rate` or use the legacy optimizer, e.g.,tf.keras.optimizers.legacy.SGD.\n"
     ]
    },
    {
     "name": "stdout",
     "output_type": "stream",
     "text": [
      "learning rate = 1.0\n",
      "Lambda = 0.0001\n",
      "Test Accuracy = 0.855555534362793\n",
      "\n",
      "12/12 [==============================] - 0s 4ms/step - loss: 1.2447 - accuracy: 0.8944\n"
     ]
    },
    {
     "name": "stderr",
     "output_type": "stream",
     "text": [
      "WARNING:absl:`lr` is deprecated in Keras optimizer, please use `learning_rate` or use the legacy optimizer, e.g.,tf.keras.optimizers.legacy.SGD.\n"
     ]
    },
    {
     "name": "stdout",
     "output_type": "stream",
     "text": [
      "learning rate = 1.0\n",
      "Lambda = 0.001\n",
      "Test Accuracy = 0.894444465637207\n",
      "\n",
      "12/12 [==============================] - 0s 3ms/step - loss: 2.5372 - accuracy: 0.7778\n"
     ]
    },
    {
     "name": "stderr",
     "output_type": "stream",
     "text": [
      "WARNING:absl:`lr` is deprecated in Keras optimizer, please use `learning_rate` or use the legacy optimizer, e.g.,tf.keras.optimizers.legacy.SGD.\n"
     ]
    },
    {
     "name": "stdout",
     "output_type": "stream",
     "text": [
      "learning rate = 1.0\n",
      "Lambda = 0.01\n",
      "Test Accuracy = 0.7777777910232544\n",
      "\n",
      "12/12 [==============================] - 0s 4ms/step - loss: 2.3544 - accuracy: 0.0806\n"
     ]
    },
    {
     "name": "stderr",
     "output_type": "stream",
     "text": [
      "WARNING:absl:`lr` is deprecated in Keras optimizer, please use `learning_rate` or use the legacy optimizer, e.g.,tf.keras.optimizers.legacy.SGD.\n"
     ]
    },
    {
     "name": "stdout",
     "output_type": "stream",
     "text": [
      "learning rate = 1.0\n",
      "Lambda = 0.1\n",
      "Test Accuracy = 0.08055555820465088\n",
      "\n",
      "12/12 [==============================] - 0s 3ms/step - loss: 2.3077 - accuracy: 0.0806\n"
     ]
    },
    {
     "name": "stderr",
     "output_type": "stream",
     "text": [
      "WARNING:absl:`lr` is deprecated in Keras optimizer, please use `learning_rate` or use the legacy optimizer, e.g.,tf.keras.optimizers.legacy.SGD.\n"
     ]
    },
    {
     "name": "stdout",
     "output_type": "stream",
     "text": [
      "learning rate = 1.0\n",
      "Lambda = 1.0\n",
      "Test Accuracy = 0.08055555820465088\n",
      "\n",
      "12/12 [==============================] - 0s 7ms/step - loss: 2.3086 - accuracy: 0.0806\n"
     ]
    },
    {
     "name": "stderr",
     "output_type": "stream",
     "text": [
      "WARNING:absl:`lr` is deprecated in Keras optimizer, please use `learning_rate` or use the legacy optimizer, e.g.,tf.keras.optimizers.legacy.SGD.\n"
     ]
    },
    {
     "name": "stdout",
     "output_type": "stream",
     "text": [
      "learning rate = 1.0\n",
      "Lambda = 10.0\n",
      "Test Accuracy = 0.08055555820465088\n",
      "\n",
      "12/12 [==============================] - 0s 5ms/step - loss: 1.0360 - accuracy: 0.8528\n"
     ]
    },
    {
     "name": "stderr",
     "output_type": "stream",
     "text": [
      "WARNING:absl:`lr` is deprecated in Keras optimizer, please use `learning_rate` or use the legacy optimizer, e.g.,tf.keras.optimizers.legacy.SGD.\n"
     ]
    },
    {
     "name": "stdout",
     "output_type": "stream",
     "text": [
      "learning rate = 10.0\n",
      "Lambda = 1e-05\n",
      "Test Accuracy = 0.8527777791023254\n",
      "\n",
      "12/12 [==============================] - 0s 3ms/step - loss: 1.0576 - accuracy: 0.8722\n"
     ]
    },
    {
     "name": "stderr",
     "output_type": "stream",
     "text": [
      "WARNING:absl:`lr` is deprecated in Keras optimizer, please use `learning_rate` or use the legacy optimizer, e.g.,tf.keras.optimizers.legacy.SGD.\n"
     ]
    },
    {
     "name": "stdout",
     "output_type": "stream",
     "text": [
      "learning rate = 10.0\n",
      "Lambda = 0.0001\n",
      "Test Accuracy = 0.8722222447395325\n",
      "\n",
      "12/12 [==============================] - 0s 4ms/step - loss: 1.3789 - accuracy: 0.8778\n"
     ]
    },
    {
     "name": "stderr",
     "output_type": "stream",
     "text": [
      "WARNING:absl:`lr` is deprecated in Keras optimizer, please use `learning_rate` or use the legacy optimizer, e.g.,tf.keras.optimizers.legacy.SGD.\n"
     ]
    },
    {
     "name": "stdout",
     "output_type": "stream",
     "text": [
      "learning rate = 10.0\n",
      "Lambda = 0.001\n",
      "Test Accuracy = 0.8777777552604675\n",
      "\n",
      "12/12 [==============================] - 0s 2ms/step - loss: 2.5053 - accuracy: 0.8139\n"
     ]
    },
    {
     "name": "stderr",
     "output_type": "stream",
     "text": [
      "WARNING:absl:`lr` is deprecated in Keras optimizer, please use `learning_rate` or use the legacy optimizer, e.g.,tf.keras.optimizers.legacy.SGD.\n"
     ]
    },
    {
     "name": "stdout",
     "output_type": "stream",
     "text": [
      "learning rate = 10.0\n",
      "Lambda = 0.01\n",
      "Test Accuracy = 0.8138889074325562\n",
      "\n",
      "12/12 [==============================] - 0s 6ms/step - loss: 2.3530 - accuracy: 0.0806\n"
     ]
    },
    {
     "name": "stderr",
     "output_type": "stream",
     "text": [
      "WARNING:absl:`lr` is deprecated in Keras optimizer, please use `learning_rate` or use the legacy optimizer, e.g.,tf.keras.optimizers.legacy.SGD.\n"
     ]
    },
    {
     "name": "stdout",
     "output_type": "stream",
     "text": [
      "learning rate = 10.0\n",
      "Lambda = 0.1\n",
      "Test Accuracy = 0.08055555820465088\n",
      "\n",
      "12/12 [==============================] - 0s 8ms/step - loss: 2.3067 - accuracy: 0.0806\n"
     ]
    },
    {
     "name": "stderr",
     "output_type": "stream",
     "text": [
      "WARNING:absl:`lr` is deprecated in Keras optimizer, please use `learning_rate` or use the legacy optimizer, e.g.,tf.keras.optimizers.legacy.SGD.\n"
     ]
    },
    {
     "name": "stdout",
     "output_type": "stream",
     "text": [
      "learning rate = 10.0\n",
      "Lambda = 1.0\n",
      "Test Accuracy = 0.08055555820465088\n",
      "\n",
      "12/12 [==============================] - 0s 6ms/step - loss: 2.3078 - accuracy: 0.0806\n",
      "learning rate = 10.0\n",
      "Lambda = 10.0\n",
      "Test Accuracy = 0.08055555820465088\n",
      "\n"
     ]
    }
   ],
   "source": [
    "DNN_keras = np.zeros((len(eta_vals),len(lmbd_vals)),dtype=object)\n",
    "\n",
    "for i, eta in enumerate(eta_vals):\n",
    "    for j, lmbd in enumerate(lmbd_vals):\n",
    "        DNN = create_neural_network_keras(n_neurons_layers1,n_neurons_layers2,n_categories,eta,lmbd)\n",
    "\n",
    "        DNN.fit(x_train,y_train,epochs=epochs,batch_size=batch_size,verbose=0)\n",
    "        scores = DNN.evaluate(x_test,y_test)\n",
    "\n",
    "        DNN_keras[i][j] = DNN\n",
    "\n",
    "        print(f'learning rate = {eta}')\n",
    "        print(f'Lambda = {lmbd}')\n",
    "        print(f\"Test Accuracy = {scores[1]}\")\n",
    "        print()"
   ]
  },
  {
   "cell_type": "code",
   "execution_count": 14,
   "metadata": {},
   "outputs": [],
   "source": [
    "from sklearn.model_selection import GridSearchCV"
   ]
  },
  {
   "cell_type": "code",
   "execution_count": null,
   "metadata": {},
   "outputs": [],
   "source": []
  }
 ],
 "metadata": {
  "kernelspec": {
   "display_name": "tf",
   "language": "python",
   "name": "python3"
  },
  "language_info": {
   "codemirror_mode": {
    "name": "ipython",
    "version": 3
   },
   "file_extension": ".py",
   "mimetype": "text/x-python",
   "name": "python",
   "nbconvert_exporter": "python",
   "pygments_lexer": "ipython3",
   "version": "3.11.5"
  }
 },
 "nbformat": 4,
 "nbformat_minor": 2
}
